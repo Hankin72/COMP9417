{
 "cells": [
  {
   "cell_type": "markdown",
   "metadata": {},
   "source": [
    "# Question 1"
   ]
  },
  {
   "cell_type": "markdown",
   "metadata": {},
   "source": [
    "To find the answer of this question you should run the following python code cells."
   ]
  },
  {
   "cell_type": "code",
   "execution_count": 49,
   "metadata": {
    "collapsed": true
   },
   "outputs": [],
   "source": [
    "# Code for question 1\n",
    "\n",
    "import numpy as np\n",
    "from scipy.io import arff\n",
    "import pandas as pd\n",
    "from sklearn.base import TransformerMixin\n",
    "from sklearn import tree\n",
    "from sklearn import preprocessing\n",
    "from sklearn.model_selection import train_test_split\n",
    "from sklearn import svm, datasets\n",
    "from sklearn.model_selection import GridSearchCV\n",
    "from sklearn.tree import DecisionTreeClassifier\n",
    "from sklearn.metrics import accuracy_score\n",
    "import sys\n",
    "import warnings\n",
    "import matplotlib.pyplot as plt \n",
    "%matplotlib inline"
   ]
  },
  {
   "cell_type": "code",
   "execution_count": 33,
   "metadata": {
    "collapsed": true
   },
   "outputs": [],
   "source": [
    "# fixed random seed\n",
    "np.random.seed(1)\n",
    "\n",
    "def warn(*args, **kwargs):\n",
    "    pass\n",
    "\n",
    "def label_enc(labels):\n",
    "    le = preprocessing.LabelEncoder()\n",
    "    le.fit(labels)\n",
    "    return le\n",
    "\n",
    "def features_encoders(features,categorical_features='all'):\n",
    "    n_samples, n_features = features.shape\n",
    "    label_encoders = [preprocessing.LabelEncoder() for _ in range(n_features)]\n",
    "\n",
    "    X_int = np.zeros_like(features, dtype=np.int)\n",
    "\n",
    "    for i in range(n_features):\n",
    "        feature_i = features[:, i]\n",
    "        label_encoders[i].fit(feature_i)\n",
    "        X_int[:, i] = label_encoders[i].transform(feature_i)\n",
    "        \n",
    "    enc = preprocessing.OneHotEncoder(categorical_features=categorical_features)\n",
    "    return enc.fit(X_int),label_encoders\n",
    "\n",
    "def feature_transform(features,label_encoders, one_hot_encoder):\n",
    "    \n",
    "    n_samples, n_features = features.shape\n",
    "    X_int = np.zeros_like(features, dtype=np.int)\n",
    "    \n",
    "    for i in range(n_features):\n",
    "        feature_i = features[:, i]\n",
    "        X_int[:, i] = label_encoders[i].transform(feature_i)\n",
    "\n",
    "    return one_hot_encoder.transform(X_int).toarray()\n",
    "\n",
    "warnings.warn = warn"
   ]
  },
  {
   "cell_type": "code",
   "execution_count": 34,
   "metadata": {
    "collapsed": true
   },
   "outputs": [],
   "source": [
    "class DataFrameImputer(TransformerMixin):\n",
    "\n",
    "    def fit(self, X, y=None):\n",
    "\n",
    "        self.fill = pd.Series([X[c].value_counts().index[0]\n",
    "            if X[c].dtype == np.dtype('O') else X[c].mean() for c in X],\n",
    "            index=X.columns)\n",
    "\n",
    "        return self\n",
    "\n",
    "    def transform(self, X, y=None):\n",
    "        return X.fillna(self.fill)\n",
    "\n",
    "\n",
    "def load_data(path):\n",
    "    dataset = arff.loadarff(path)\n",
    "    data = pd.DataFrame(dataset[0])\n",
    "    attr = np.array(data.columns)\n",
    "    data = DataFrameImputer().fit_transform(data).values\n",
    "\n",
    "    # mask categorical features\n",
    "    masks = []\n",
    "    for i in range(len(attr)-1):\n",
    "        if attr[i][1] != 'REAL':\n",
    "            masks.append(i)\n",
    "    return data, masks\n",
    "\n",
    "def preprocess(data,masks, noise_ratio):\n",
    "    # split data\n",
    "    train_data, test_data = train_test_split(data,test_size=0.3,random_state=0)\n",
    "\n",
    "    # test data\n",
    "    test_features = test_data[:,0:test_data.shape[1]-1]\n",
    "    test_labels = test_data[:,test_data.shape[1]-1]\n",
    "\n",
    "    # training data\n",
    "    features = train_data[:,0:train_data.shape[1]-1]\n",
    "    labels = train_data[:,train_data.shape[1]-1]\n",
    "\n",
    "    classes = list(set(labels))\n",
    "    # categorical features need to be encoded\n",
    "    if len(masks):\n",
    "        one_hot_enc, label_encs = features_encoders(data[:,0:data.shape[1]-1],masks)\n",
    "        test_features = feature_transform(test_features,label_encs,one_hot_enc)\n",
    "        features = feature_transform(features,label_encs,one_hot_enc)\n",
    "\n",
    "    le = label_enc(data[:,data.shape[1]-1])\n",
    "    labels = le.transform(train_data[:,train_data.shape[1]-1])\n",
    "    test_labels = le.transform(test_data[:,test_data.shape[1]-1])\n",
    "    \n",
    "    # add noise\n",
    "    np.random.seed(1234)\n",
    "    noise = np.random.randint(len(classes)-1, size=int(len(labels)*noise_ratio))+1\n",
    "    \n",
    "    noise = np.concatenate((noise,np.zeros(len(labels) - len(noise),dtype=np.int)))\n",
    "    labels = (labels + noise) % len(classes)\n",
    "\n",
    "    return features,labels,test_features,test_labels"
   ]
  },
  {
   "cell_type": "code",
   "execution_count": 37,
   "metadata": {},
   "outputs": [
    {
     "name": "stdout",
     "output_type": "stream",
     "text": [
      "                                             Decision Tree Results                                              \n",
      "----------------------------------------------------------------------------------------------------------------\n",
      "    Dataset     |     Default      |        0%        |       25%        |       50%        |       75%        |\n",
      "----------------------------------------------------------------------------------------------------------------\n",
      "\n",
      "australian      |  56.52% ( 2)     |  81.16% ( 7)     |  86.96% ( 2)     |  56.52% ( 2)     |  20.77% ( 7)     |\n",
      "\n",
      "labor           |  66.67% ( 2)     |  94.44% ( 7)     |  44.44% ( 7)     |  66.67% ( 7)     |  50.00% (12)     |\n",
      "\n",
      "diabetes        |  66.23% ( 2)     |  67.10% ( 7)     |  64.07% (12)     |  66.23% ( 2)     |  35.50% (27)     |\n",
      "\n",
      "ionosphere      |  66.04% ( 2)     |  86.79% ( 7)     |  82.08% (27)     |  71.70% ( 7)     |  18.87% (12)     |\n",
      "\n",
      "\n",
      "\n"
     ]
    }
   ],
   "source": [
    "# load data\n",
    "paths = ['australian','labor','diabetes','ionosphere']\n",
    "noise = [0,0.25,0.5,0.75]\n",
    "\n",
    "scores = []\n",
    "params = []\n",
    "\n",
    "for path in paths:\n",
    "    score = []\n",
    "    param = []\n",
    "    path += '.arff'\n",
    "    data, masks = load_data(path)\n",
    "    \n",
    "    # training on data with 50% noise and default parameters\n",
    "    features, labels, test_features, test_labels = preprocess(data, masks, 0.5)\n",
    "    tree = DecisionTreeClassifier(random_state=0,max_depth=2, min_impurity_decrease=0)    \n",
    "    tree.fit(features, labels)\n",
    "    tree_preds = tree.predict(test_features)\n",
    "    tree_performance = accuracy_score(test_labels, tree_preds)\n",
    "    score.append(tree_performance)\n",
    "    param.append(tree.get_params()['max_depth'])\n",
    "    \n",
    "    # training on data with noise levels of 0%, 25%, 50% and 75%\n",
    "    for noise_ratio in noise:\n",
    "        features, labels, test_features, test_labels = preprocess(data, masks, noise_ratio)\n",
    "        param_grid = {'max_depth': np.arange(2,30,5)}\n",
    "\n",
    "        grid_tree = GridSearchCV(DecisionTreeClassifier(random_state=0), param_grid,cv=10,return_train_score=True)\n",
    "        grid_tree.fit(features, labels)\n",
    "\n",
    "        estimator = grid_tree.best_estimator_\n",
    "        tree_preds = grid_tree.predict(test_features)\n",
    "        tree_performance = accuracy_score(test_labels, tree_preds)\n",
    "        score.append(tree_performance)\n",
    "        param.append(estimator.get_params()['max_depth'])\n",
    "\n",
    "    scores.append(score)\n",
    "    params.append(param)\n",
    "\n",
    "# print the results\n",
    "header = \"{:^112}\".format(\"Decision Tree Results\") + '\\n' + '-' * 112  + '\\n' + \\\n",
    "\"{:^15} | {:^16} | {:^16} | {:^16} | {:^16} | {:^16} |\".format(\"Dataset\", \"Default\", \"0%\", \"25%\", \"50%\", \"75%\") + \\\n",
    " '\\n' + '-' * 112  + '\\n'\n",
    "\n",
    "# print result table\n",
    "print(header)\n",
    "for i in range(len(scores)):\n",
    "    #scores = score_list[i][1]\n",
    "    print(\"{:<16}\".format(paths[i]),end=\"\")\n",
    "    for j in range(len(params[i])):\n",
    "        print(\"|  {:>6.2%} ({:>2})     \" .format(scores[i][j],params[i][j]),end=\"\")\n",
    "    print('|\\n')\n",
    "print('\\n')"
   ]
  },
  {
   "cell_type": "raw",
   "metadata": {},
   "source": [
    "Part B - [0.5 marks]\n",
    "In sklearn’s decision tree implementation, the parameter “max_depth” represents the maximum\n",
    "depth of decision tree during the training procedure. The deeper the tree, the more splits it has,\n",
    "and it captures more information about the data.\n",
    "By increasing the value of the value of “max_depth” parameter we can expect this to:\n",
    "--- (1) overfitting not changed by decreasing max_depth of the decision tree\n",
    "--- (2) decrease overfitting by increasing max_depth of the decision tree\n",
    "--- (3) increase overfitting by decreasing max_depth of the decision tree\n",
    "--- (4) increase overfitting by increasing max_depth of the decision tree <<<---"
   ]
  },
  {
   "cell_type": "markdown",
   "metadata": {},
   "source": [
    "The item 4 is the correct answer for this question. \n",
    "We have selected the 'diabetes.arff' explain the reason visually. \n",
    "The following plot shows shows the accuracy score of decision tree classifier for all max_depth between 2 and 50. the black line shows the accuracy score for training set and the blue one shows this score for test set. the result clearly shows that by increasing the value of max_depth the overfitting is increased."
   ]
  },
  {
   "cell_type": "code",
   "execution_count": 59,
   "metadata": {},
   "outputs": [
    {
     "data": {
      "text/plain": []
     },
     "execution_count": 59,
     "metadata": {},
     "output_type": "execute_result"
    },
    {
     "data": {
      "image/png": "[encoded data removed]",
      "text/plain": []
     },
     "metadata": {},
     "output_type": "display_data"
    }
   ],
   "source": [
    "train_data, test_data = train_test_split(data,test_size=0.3,random_state=0)\n",
    "data, masks = load_data('diabetes.arff')\n",
    "\n",
    "score = []\n",
    "score_train = [] \n",
    "for i in range(2,50):\n",
    "    features, labels, test_features, test_labels = preprocess(data, masks, 0)\n",
    "    tree = DecisionTreeClassifier(random_state=0,max_depth=i, min_impurity_decrease=0)    \n",
    "    tree.fit(features, labels)\n",
    "    tree_preds = tree.predict(test_features)\n",
    "    tree_performance = accuracy_score(test_labels, tree_preds)\n",
    "    train_preds = tree.predict(features)\n",
    "    tree_performance_train = accuracy_score(labels, train_preds)\n",
    "    score_train.append(tree_performance_train)\n",
    "    score.append(tree_performance)\n",
    "\n",
    "plt.plot(score,label='test_accuracy',color='blue')\n",
    "plt.plot(score_train,label='train_accuracy',color='black')\n",
    "plt.xlabel('max_depth')\n",
    "plt.ylabel('Accuracy score(%)')\n",
    "plt.legend()\n"
   ]
  },
  {
   "cell_type": "raw",
   "metadata": {},
   "source": [
    "# Part C - [0.5 mark]\n",
    "Looking at your table, the performance result for datasets with 50% noise and “max_depth”\n",
    "parameter. Does finding the best parameter in grid search helps the decision tree model to\n",
    "improve the test set accuracy compared to the default parameter settings? What is your answer?\n",
    "--- (1) no\n",
    "--- (2) yes, for 1/4 of the datasets <<<----\n",
    "--- (3) yes, for 2/4 of the datasets\n",
    "--- (4) yes, for 3/4 of the datasets\n",
    "--- (5) yes, for 4/4 of the datasets"
   ]
  },
  {
   "cell_type": "raw",
   "metadata": {},
   "source": [
    "The item 2 is the correct answer for this question. you can find the answer of this question by looking the part A table and compare the results for default and 50% columns. "
   ]
  },
  {
   "cell_type": "markdown",
   "metadata": {},
   "source": [
    "# Question 2"
   ]
  },
  {
   "cell_type": "raw",
   "metadata": {},
   "source": [
    "In this practical question, you should develop a machine learning model using K-nearest\n",
    "neighbours to predict which customer will be able to return the loan without any delinquency.\n",
    "In order to build your model, you should use CreditCard.csv file in Datasets folder. Then you\n",
    "should find the answer of the following questions:"
   ]
  },
  {
   "cell_type": "code",
   "execution_count": 1,
   "metadata": {},
   "outputs": [],
   "source": [
    "#Libraries for Question 2\n",
    "\n",
    "import pandas as pd\n",
    "import numpy as np\n",
    "import matplotlib.pyplot as plt\n",
    "from sklearn.neighbors import KNeighborsClassifier\n",
    "from sklearn.model_selection import train_test_split\n",
    "import sklearn.metrics as metrics"
   ]
  },
  {
   "cell_type": "code",
   "execution_count": 2,
   "metadata": {},
   "outputs": [
    {
     "name": "stdout",
     "output_type": "stream",
     "text": [
      "   X1     X2     X3  X4  X5  X6     X7  X7.1  X9  X10  X11  X12  X13   X14  Y\n",
      "0   1  22.08  11.46   2   4   4  1.585     0   0    0    1    2  100  1213  0\n",
      "1   0  22.67   7.00   2   8   4  0.165     0   0    0    0    2  160     1  0\n",
      "2   0  29.58   1.75   1   4   4  1.250     0   0    0    1    2  280     1  0\n",
      "3   0  21.67  11.50   1   5   3  0.000     1   1   11    1    2    0     1  1\n",
      "4   1  20.17   8.17   2   6   4  1.960     1   1   14    0    2   60   159  1\n"
     ]
    }
   ],
   "source": [
    "### loading dataset\n",
    "data=pd.read_csv(\"CreditCards.csv\")\n",
    "input_columns = ['X1', 'X2', 'X3', 'X4', 'X5', 'X6', 'X7', 'X7.1', 'X9', 'X10', 'X11', 'X12', 'X13', 'X14']\n",
    "print(data.head())"
   ]
  },
  {
   "cell_type": "code",
   "execution_count": 3,
   "metadata": {},
   "outputs": [
    {
     "data": {
      "text/plain": [
       "Index(['X1', 'X2', 'X3', 'X4', 'X5', 'X6', 'X7', 'X7.1', 'X9', 'X10', 'X11',\n",
       "       'X12', 'X13', 'X14', 'Y'],\n",
       "      dtype='object')"
      ]
     },
     "execution_count": 3,
     "metadata": {},
     "output_type": "execute_result"
    }
   ],
   "source": [
    "data.columns"
   ]
  },
  {
   "cell_type": "code",
   "execution_count": 4,
   "metadata": {
    "scrolled": true
   },
   "outputs": [
    {
     "name": "stdout",
     "output_type": "stream",
     "text": [
      "      X1        X2        X3   X4        X5     X6        X7  X7.1   X9  \\\n",
      "0    1.0  0.125263  0.409286  0.5  0.230769  0.375  0.055614   0.0  0.0   \n",
      "1    0.0  0.134135  0.250000  0.5  0.538462  0.375  0.005789   0.0  0.0   \n",
      "2    0.0  0.238045  0.062500  0.0  0.230769  0.375  0.043860   0.0  0.0   \n",
      "3    0.0  0.119098  0.410714  0.0  0.307692  0.250  0.000000   1.0  1.0   \n",
      "4    1.0  0.096541  0.291786  0.5  0.384615  0.375  0.068772   1.0  1.0   \n",
      "..   ...       ...       ...  ...       ...    ...       ...   ...  ...   \n",
      "685  1.0  0.267970  0.375000  0.5  1.000000  0.375  0.228070   1.0  0.0   \n",
      "686  1.0  0.104060  0.014821  0.5  0.538462  0.375  0.004386   0.0  0.0   \n",
      "687  0.0  0.076391  0.340714  0.5  0.384615  0.375  0.002982   1.0  0.0   \n",
      "688  0.0  0.205564  0.517857  0.5  1.000000  0.875  0.108246   1.0  1.0   \n",
      "689  1.0  0.409774  0.001429  0.5  0.692308  0.375  0.001404   0.0  1.0   \n",
      "\n",
      "          X10  X11  X12   X13      X14    Y  \n",
      "0    0.000000  1.0  0.5  0.05  0.01212  0.0  \n",
      "1    0.000000  0.0  0.5  0.08  0.00000  0.0  \n",
      "2    0.000000  1.0  0.5  0.14  0.00000  0.0  \n",
      "3    0.164179  1.0  0.5  0.00  0.00000  1.0  \n",
      "4    0.208955  0.0  0.5  0.03  0.00158  1.0  \n",
      "..        ...  ...  ...   ...      ...  ...  \n",
      "685  0.000000  0.0  0.5  0.00  0.00000  1.0  \n",
      "686  0.000000  0.0  0.5  0.00  0.00044  0.0  \n",
      "687  0.000000  0.0  0.5  0.05  0.00000  1.0  \n",
      "688  0.014925  0.0  0.5  0.06  0.00011  1.0  \n",
      "689  0.014925  0.0  0.0  0.28  0.00000  1.0  \n",
      "\n",
      "[690 rows x 15 columns]\n"
     ]
    }
   ],
   "source": [
    "##Pre-precessing (min_max Normalization) \n",
    "minimum = np.min(data,axis=0)\n",
    "maximum = np.max(data,axis=0)\n",
    "NormalData = (data - minimum)/(maximum-minimum)\n",
    "print(NormalData)"
   ]
  },
  {
   "cell_type": "code",
   "execution_count": 5,
   "metadata": {},
   "outputs": [],
   "source": [
    "###Train and test Split \n",
    "x_train = NormalData[input_columns].iloc[:621]\n",
    "y_train = data['Y'].iloc[:621]\n",
    "x_test = NormalData[input_columns].iloc[621:]\n",
    "y_test = data['Y'].iloc[621:]"
   ]
  },
  {
   "cell_type": "raw",
   "metadata": {},
   "source": [
    "Part A - [1 mark]\n",
    "Implement a kNN classifier for Australian credit risk prediction using sklearn library. You\n",
    "should set the n_neighbors =2 for training the model. What is your accuracy score for training\n",
    "and test dataset?"
   ]
  },
  {
   "cell_type": "code",
   "execution_count": 6,
   "metadata": {},
   "outputs": [
    {
     "name": "stdout",
     "output_type": "stream",
     "text": [
      "Train Accuracy =  0.8969404186795491 , Test Accuracy =  0.7681159420289855\n"
     ]
    }
   ],
   "source": [
    "#### training KNN classifier with 2 number of neighbours\n",
    "from sklearn.neighbors import KNeighborsClassifier\n",
    " \n",
    "knn = KNeighborsClassifier(n_neighbors=2)\n",
    "knn.fit(x_train, y_train)\n",
    "\n",
    "train_accuracy = metrics.accuracy_score(y_train,knn.predict(x_train))\n",
    "test_accuracy = metrics.accuracy_score(y_test,knn.predict(x_test))\n",
    "\n",
    "print('Train Accuracy = ', train_accuracy , ', Test Accuracy = ', test_accuracy)\n",
    "\n"
   ]
  },
  {
   "cell_type": "raw",
   "metadata": {},
   "source": [
    "Part B - [1 mark]\n",
    "Find optimal number of neighbours by developing a search algorithm to find the optimal value\n",
    "of k. You should find the optimal number of k in a range between 1 to 30 and finding optimal\n",
    "value for number of k. please use AUC score to find the optimal number of neighbours.\n"
   ]
  },
  {
   "cell_type": "code",
   "execution_count": 7,
   "metadata": {},
   "outputs": [
    {
     "name": "stdout",
     "output_type": "stream",
     "text": [
      "optimal number of neighbour is =  5\n"
     ]
    }
   ],
   "source": [
    "training_scores = []\n",
    "Test_scores = []\n",
    "for k in range(1,30):\n",
    "    knn = KNeighborsClassifier(n_neighbors=k)\n",
    "    knn.fit(x_train, y_train)    \n",
    "    Test_scores.append(metrics.roc_auc_score(y_test, knn.predict_proba(x_test)[:,1]))\n",
    "    training_scores.append(metrics.roc_auc_score(y_train, knn.predict_proba(x_train)[:,1]))\n",
    "\n",
    "optimal_neighbours = np.argmax(Test_scores) + 1\n",
    "print('optimal number of neighbour is = ', optimal_neighbours)"
   ]
  },
  {
   "cell_type": "code",
   "execution_count": 9,
   "metadata": {
    "scrolled": true
   },
   "outputs": [
    {
     "data": {
      "text/plain": [
       "<matplotlib.legend.Legend at 0x1a1dc73160>"
      ]
     },
     "execution_count": 9,
     "metadata": {},
     "output_type": "execute_result"
    },
    {
     "data": {
      "image/png": "[encoded data removed]",
      "text/plain": [
       "<Figure size 432x288 with 1 Axes>"
      ]
     },
     "metadata": {
      "needs_background": "light"
     },
     "output_type": "display_data"
    }
   ],
   "source": [
    "plt.plot(range(1,30),Test_scores,label='test_AUC_score',color='blue')\n",
    "plt.plot(range(1,30),training_scores,label='train_AUC_score',color='black')\n",
    "plt.xlabel('number of neighbours')\n",
    "plt.ylabel('AUC score')\n",
    "plt.xticks(np.arange(1, 30, step=5))\n",
    "plt.legend()"
   ]
  },
  {
   "cell_type": "raw",
   "metadata": {},
   "source": [
    "Part D - [1 mark]\n",
    "Compute precision and recall evaluation metrics for your kNN model with optimal number of\n",
    "neighbours and another model that you have built in part A. Compare these metrics for these\n",
    "two models."
   ]
  },
  {
   "cell_type": "code",
   "execution_count": 11,
   "metadata": {},
   "outputs": [
    {
     "name": "stdout",
     "output_type": "stream",
     "text": [
      "KNN classifier with two neighbours\n",
      "Precision score =  0.7894736842105263\n",
      "Recall score =  0.5555555555555556\n",
      "\n",
      "KNN classifier with optimal number of neighbours\n",
      "Precision score =  0.7666666666666667\n",
      "Recall score =  0.8518518518518519\n"
     ]
    }
   ],
   "source": [
    "knn_2 = KNeighborsClassifier(n_neighbors=2)\n",
    "knn_2.fit(x_train, y_train)\n",
    "\n",
    "knn_best = KNeighborsClassifier(n_neighbors=optimal_neighbours)\n",
    "knn_best.fit(x_train, y_train)\n",
    "\n",
    "print('KNN classifier with two neighbours')\n",
    "print('Precision score = ', metrics.precision_score(y_test,knn_2.predict(x_test)))\n",
    "print('Recall score = ', metrics.recall_score(y_test,knn_2.predict(x_test)))\n",
    "\n",
    "print('\\nKNN classifier with optimal number of neighbours')\n",
    "print('Precision score = ', metrics.precision_score(y_test,knn_best.predict(x_test)))\n",
    "print('Recall score = ', metrics.recall_score(y_test,knn_best.predict(x_test)))\n"
   ]
  },
  {
   "cell_type": "code",
   "execution_count": 17,
   "metadata": {},
   "outputs": [],
   "source": [
    "## optimal number of neighbour with gridsearchcv10"
   ]
  },
  {
   "cell_type": "code",
   "execution_count": 14,
   "metadata": {
    "scrolled": true
   },
   "outputs": [
    {
     "name": "stdout",
     "output_type": "stream",
     "text": [
      "{'n_neighbors': 15}\n"
     ]
    }
   ],
   "source": [
    "from sklearn.model_selection import GridSearchCV\n",
    "param_grid = {'n_neighbors': np.arange(1,30,1)}\n",
    "\n",
    "grid_KNN = GridSearchCV(KNeighborsClassifier(), param_grid,cv=10, scoring='roc_auc')\n",
    "#grid_KNN.fit(NormalData[input_columns], data['Y'])\n",
    "grid_KNN.fit(x_train, y_train)\n",
    "\n",
    "print(grid_KNN.best_params_)"
   ]
  },
  {
   "cell_type": "code",
   "execution_count": 16,
   "metadata": {},
   "outputs": [
    {
     "name": "stdout",
     "output_type": "stream",
     "text": [
      "KNN classifier with two neighbours\n",
      "Precision score =  0.7894736842105263\n",
      "Recall score =  0.5555555555555556\n",
      "\n",
      "KNN classifier with optimal number of neighbours\n",
      "Precision score =  0.8\n",
      "Recall score =  0.7407407407407407\n"
     ]
    }
   ],
   "source": [
    "knn_2 = KNeighborsClassifier(n_neighbors=2)\n",
    "knn_2.fit(x_train, y_train)\n",
    "\n",
    "knn_best = KNeighborsClassifier(n_neighbors=grid_KNN.best_params_['n_neighbors'])\n",
    "knn_best.fit(x_train, y_train)\n",
    "\n",
    "print('KNN classifier with two neighbours')\n",
    "print('Precision score = ', metrics.precision_score(y_test,knn_2.predict(x_test)))\n",
    "print('Recall score = ', metrics.recall_score(y_test,knn_2.predict(x_test)))\n",
    "\n",
    "print('\\nKNN classifier with optimal number of neighbours')\n",
    "print('Precision score = ', metrics.precision_score(y_test,knn_best.predict(x_test)))\n",
    "print('Recall score = ', metrics.recall_score(y_test,knn_best.predict(x_test)))\n"
   ]
  },
  {
   "cell_type": "code",
   "execution_count": null,
   "metadata": {},
   "outputs": [],
   "source": []
  }
 ],
 "metadata": {
  "kernelspec": {
   "display_name": "Python 3",
   "language": "python",
   "name": "python3"
  },
  "language_info": {
   "codemirror_mode": {
    "name": "ipython",
    "version": 3
   },
   "file_extension": ".py",
   "mimetype": "text/x-python",
   "name": "python",
   "nbconvert_exporter": "python",
   "pygments_lexer": "ipython3",
   "version": "3.6.8"
  }
 },
 "nbformat": 4,
 "nbformat_minor": 2
}
