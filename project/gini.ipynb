{
 "cells": [
  {
   "cell_type": "code",
   "execution_count": 50,
   "id": "66cb9baa",
   "metadata": {},
   "outputs": [],
   "source": [
    "import time\n",
    "import math\n",
    "import numpy as np\n",
    "import matplotlib.pyplot as plt\n",
    "from matplotlib.colors import ListedColormap\n",
    "import pandas as pd\n",
    "import seaborn as sns\n",
    "import scipy.stats as stats\n",
    "from scipy.stats import poisson\n",
    "\n",
    "import pylab\n",
    "from sklearn.preprocessing import StandardScaler\n",
    "\n",
    "from sklearn import preprocessing\n",
    "from sklearn.model_selection import KFold\n",
    "from sklearn.model_selection import GridSearchCV, cross_val_score\n",
    "import numpy as np\n",
    "from sklearn.ensemble import VotingClassifier\n",
    "from sklearn.ensemble import ExtraTreesClassifier\n",
    "from sklearn.neighbors import KNeighborsClassifier\n",
    "from sklearn.ensemble import RandomForestClassifier\n",
    "from sklearn.metrics import f1_score\n",
    "from sklearn.model_selection import RandomizedSearchCV\n",
    "from sklearn.metrics import make_scorer\n",
    "from sklearn.decomposition import PCA, IncrementalPCA\n",
    "from sklearn import preprocessing\n",
    "from sklearn.metrics import make_scorer\n",
    "from sklearn.metrics import accuracy_score\n",
    "from sklearn.neighbors import KNeighborsClassifier\n",
    "from sklearn import preprocessing\n",
    "from sklearn.metrics import classification_report, confusion_matrix\n",
    "from sklearn.ensemble import RandomForestClassifier, VotingClassifier\n",
    "import time\n",
    "import pylab\n",
    "import numpy as np\n",
    "import pandas as pd\n",
    "import seaborn as sns\n",
    "import matplotlib.pyplot as plt\n",
    "import scipy.stats as stats\n",
    "from sklearn import preprocessing\n",
    "from sklearn.preprocessing import StandardScaler\n",
    "from sklearn.model_selection import KFold\n",
    "from sklearn.metrics import classification_report\n",
    "\n",
    "from sklearn.metrics import f1_score\n",
    "\n",
    "from sklearn.neighbors import KNeighborsClassifier\n",
    "from sklearn.ensemble import RandomForestClassifier\n",
    "from sklearn.decomposition import PCA, IncrementalPCA\n",
    "from sklearn.model_selection import GridSearchCV\n",
    "from sklearn.metrics import classification_report, confusion_matrix\n",
    "from sklearn.ensemble import ExtraTreesClassifier\n",
    "from sklearn.ensemble import BaggingClassifier\n",
    "from sklearn.tree import DecisionTreeClassifier\n",
    "from sklearn.tree import ExtraTreeClassifier\n",
    "\n",
    "from xgboost.sklearn import XGBClassifier\n",
    "from sklearn.decomposition import PCA, IncrementalPCA\n",
    "import numpy as np\n",
    "import xgboost as xgb\n",
    "from xgboost import plot_importance\n",
    "from sklearn.metrics import f1_score\n",
    "from sklearn.model_selection import KFold\n",
    "from sklearn import preprocessing\n",
    "\n",
    "\n",
    "from lightgbm import LGBMClassifier\n",
    "import time\n",
    "\n",
    "from sklearn.metrics import classification_report, confusion_matrix\n",
    "\n",
    "\n",
    "from sklearn.decomposition import PCA, IncrementalPCA\n",
    "import numpy as np\n",
    "\n",
    "from sklearn.preprocessing import StandardScaler\n",
    "import numpy as np\n",
    "from sklearn import preprocessing\n",
    "from sklearn.model_selection import KFold\n",
    "from sklearn.model_selection import GridSearchCV\n",
    "from sklearn.decomposition import KernelPCA\n",
    "\n",
    "from sklearn.decomposition import PCA, IncrementalPCA\n",
    "from lightgbm import LGBMClassifier\n",
    "from sklearn.ensemble import GradientBoostingClassifier\n",
    "\n",
    "from sklearn.tree import DecisionTreeClassifier\n",
    "from sklearn.ensemble import AdaBoostClassifier\n",
    "\n",
    "from sklearn import preprocessing\n",
    "from sklearn.metrics import f1_score\n",
    "from sklearn.linear_model import RidgeClassifier\n",
    "\n",
    "from sklearn.ensemble import BaggingClassifier\n",
    "from sklearn.svm import SVC\n",
    "from sklearn.tree import ExtraTreeClassifier\n",
    "\n",
    "from sklearn.linear_model import LogisticRegression\n",
    "from sklearn import datasets, linear_model, svm\n"
   ]
  },
  {
   "cell_type": "code",
   "execution_count": 51,
   "id": "96ad74b7",
   "metadata": {},
   "outputs": [
    {
     "name": "stdout",
     "output_type": "stream",
     "text": [
      "Start : Wed Apr 28 06:25:59 2021\n",
      "\n",
      "Stop : Wed Apr 28 06:26:00 2021\n",
      "\n"
     ]
    }
   ],
   "source": [
    "print(\"Start : %s\\n\" % time.ctime())\n",
    "\n",
    "X = pd.read_csv(\"./MLinTheUnknown-Data/X_train.csv\", header=None)\n",
    "y = pd.read_csv(\"./MLinTheUnknown-Data/y_train.csv\", header=None)\n",
    "\n",
    "X_val = pd.read_csv(\"./MLinTheUnknown-Data/X_val.csv\", header=None)\n",
    "y_val = pd.read_csv(\"./MLinTheUnknown-Data/y_val.csv\", header=None)\n",
    "\n",
    "X_test = pd.read_csv(\"./MLinTheUnknown-Data/X_test.csv\", header=None)\n",
    "\n",
    "print(\"Stop : %s\\n\" % time.ctime())"
   ]
  },
  {
   "cell_type": "code",
   "execution_count": 52,
   "id": "f5353639",
   "metadata": {},
   "outputs": [],
   "source": [
    "chi2=[10,8,66,67,64,2,3,83,115,59,74,91,75,72,0,51,76,124,82,11,68,90,84,114,58,122,50,4,116,18,92,17,81,112,106]\n",
    "\n",
    "\n",
    "gini=[3,8,9,11,15,16,19,24,30,33,35,37,57,66,68,69,74,75,77,78,80,81,83,88,91,92,96,97,100,104,112,113,115,123,124]\n",
    "\n",
    "\n",
    "corr =[0,4,5,6,7,8,12,13,14,15,16,17,18,19,20,21,22,25,27,30,34,35,51,68,70,96,97,98,99,100,101,102]"
   ]
  },
  {
   "cell_type": "code",
   "execution_count": 6,
   "id": "a4192c97",
   "metadata": {},
   "outputs": [
    {
     "data": {
      "text/plain": [
       "[3, 8]"
      ]
     },
     "execution_count": 6,
     "metadata": {},
     "output_type": "execute_result"
    }
   ],
   "source": [
    "# abc = gini[:2]\n",
    "# abc"
   ]
  },
  {
   "cell_type": "code",
   "execution_count": 42,
   "id": "b9240727",
   "metadata": {},
   "outputs": [],
   "source": [
    "\n",
    "# 1\n",
    "def KNN(X, y, X_val, y_val, X_test, del_index):\n",
    "    \n",
    "    X_train = X[del_index]\n",
    "    X_val = X_val[del_index]\n",
    "\n",
    "    min_max_scaler = preprocessing.MinMaxScaler()\n",
    "    X_train = min_max_scaler.fit_transform(X_train)\n",
    "    X_val = min_max_scaler.transform(X_val)\n",
    "\n",
    "    y_train = np.array(y).ravel()\n",
    "    y_val = np.array(y_val).ravel()\n",
    "    \n",
    "    #KNN -classifier\n",
    "    clf_knn = KNeighborsClassifier(\n",
    "            n_neighbors = 1, \n",
    "            weights = 'uniform', \n",
    "            leaf_size =5,\n",
    "            algorithm = 'auto',\n",
    "            p=1)\n",
    "    \n",
    "    clf_knn.fit(X_train, y_train)\n",
    "    y_pred_knn= clf_knn.predict(X_val)\n",
    "    f1_knn= f1_score(y_val, y_pred_knn, average='weighted')\n",
    "    f1_knn =  round(f1_knn,5)\n",
    "    return f1_knn\n",
    "\n",
    "# 2\n",
    "def RF(X, y, X_val, y_val, X_test, del_index):\n",
    "    X_train = X[del_index]\n",
    "    X_val = X_val[del_index]\n",
    "\n",
    "    min_max_scaler = preprocessing.MinMaxScaler()\n",
    "    X_train = min_max_scaler.fit_transform(X_train)\n",
    "    X_val = min_max_scaler.transform(X_val)\n",
    "    \n",
    "    y_train = np.array(y).ravel()\n",
    "    y_val = np.array(y_val).ravel()\n",
    "\n",
    "    clf_rf = RandomForestClassifier(n_estimators = 160, \n",
    "                                    criterion='gini', \n",
    "                                    min_samples_leaf= 1, \n",
    "                                    max_features = 'auto',\n",
    "                                    min_samples_split =2,\n",
    "                                    random_state= 0\n",
    "                                   )\n",
    "    \n",
    "    clf_rf.fit(X_train, y_train)\n",
    "\n",
    "    y_pred_rf = clf_rf.predict(X_val)\n",
    "    f1_rf= f1_score(y_val, y_pred_rf, average='weighted')\n",
    "    f1_rf= round(f1_rf,5)\n",
    "    return f1_rf\n",
    "\n",
    "# 3\n",
    "def extraTree(X, y, X_val, y_val, X_test, del_index):\n",
    "    \n",
    "    X_train = X[del_index]\n",
    "    X_val = X_val[del_index]\n",
    "\n",
    "    min_max_scaler = preprocessing.MinMaxScaler()\n",
    "    X_train = min_max_scaler.fit_transform(X_train)\n",
    "    X_val = min_max_scaler.transform(X_val)\n",
    "    \n",
    "    y_train = np.array(y).ravel()\n",
    "    y_val = np.array(y_val).ravel()\n",
    "      \n",
    "    clf_etc = ExtraTreesClassifier( criterion = 'gini',\n",
    "                                   max_features = 'auto',\n",
    "                                   random_state=0\n",
    "                                  )\n",
    "    clf_etc.fit(X_train, y_train)\n",
    "    y_pred_etc = clf_etc.predict(X_val)\n",
    "\n",
    "    f1_etc= f1_score(y_val, y_pred_etc, average='weighted')\n",
    "    f1_etc =round(f1_etc,5)\n",
    "    return f1_etc\n",
    "\n",
    "# 4\n",
    "def xgboost(X, y, X_val, y_val, X_test, del_index):\n",
    "    \n",
    "    X_train = X[del_index]\n",
    "    X_val = X_val[del_index]\n",
    "    \n",
    "    \n",
    "    X_train = np.array(X_train)\n",
    "    X_val = np.array(X_val)\n",
    "    y_train =np.array(y).ravel()\n",
    "    y_val =np.array(y_val).ravel()\n",
    "    # 归一化\n",
    "    min_max_scaler = preprocessing.MinMaxScaler()\n",
    "    X_train = min_max_scaler.fit_transform(X_train)\n",
    "    X_val = min_max_scaler.transform(X_val)\n",
    "\n",
    "    Validation = True\n",
    "    if Validation == True:\n",
    "        model = xgb.XGBClassifier(\n",
    "                max_depth=7,\n",
    "                learning_rate=0.05,\n",
    "                n_estimators=1000,\n",
    " \n",
    "                silent=True,\n",
    "                objective='multi:softmax',\n",
    "        )\n",
    "\n",
    "        model.fit(X_train,y_train)\n",
    "        y_pred_xgb = model.predict(X_val)\n",
    "        f1_xgb = f1_score(y_val, y_pred_xgb, average='weighted')\n",
    "        f1_xgb = round(f1_xgb, 5)\n",
    "        \n",
    "    return f1_xgb\n",
    "\n",
    "# 5\n",
    "def Light_gbm(X, y, X_val, y_val, X_test, del_index):\n",
    "    \n",
    "    X_train = X[del_index]\n",
    "    X_val = X_val[del_index]\n",
    "\n",
    "    min_max_scaler = preprocessing.MinMaxScaler()\n",
    "    X_train = min_max_scaler.fit_transform(X_train)\n",
    "    X_val = min_max_scaler.transform(X_val)\n",
    "\n",
    "    y_train = np.array(y).ravel()\n",
    "    y_val = np.array(y_val).ravel()\n",
    "    \n",
    "    gbm = LGBMClassifier(\n",
    "       num_leaves=31,\n",
    "        max_depth = -1, \n",
    "        learning_rate=0.1,\n",
    "        n_estimators= 120, \n",
    "        silent = True,\n",
    "        objective = 'multiclass' )\n",
    "    \n",
    "    gbm.fit(X_train,y_train)\n",
    "    y_pred_gbm = gbm.predict(X_val, num_iteration=46)\n",
    "    f1_gbm = f1_score(y_val, y_pred_gbm, average='weighted')\n",
    "    f1_gbm =round(f1_gbm,5)\n",
    "    \n",
    "    return f1_gbm\n",
    "\n",
    "# 6\n",
    "def GradientBoosting(X, y, X_val, y_val, X_test, del_index):\n",
    "    \n",
    "    scaler = StandardScaler()\n",
    "    Xtrain = scaler.fit_transform(X)\n",
    "    Xval = scaler.transform(X_val)\n",
    "    \n",
    "    Xtrain =pd.DataFrame(Xtrain)\n",
    "    Xval = pd.DataFrame(Xval)\n",
    "    \n",
    "    Xtrain = Xtrain[del_index]\n",
    "    Xval = Xval[del_index]\n",
    "    \n",
    "    \n",
    "    \n",
    "    y= np.array(y).ravel()\n",
    "    y_val = np.array(y_val).ravel()\n",
    "    \n",
    "    \n",
    "    Xtrain = np.array(Xtrain)\n",
    "    Xval = np.array(Xval)\n",
    "\n",
    "    \n",
    "    \n",
    "    clf = GradientBoostingClassifier(n_estimators=150)\n",
    "    clf.fit(Xtrain, y)\n",
    "    \n",
    "    pred_y_val = clf.predict(Xval)\n",
    "   \n",
    "\n",
    "    f1_gb = f1_score(y_val, pred_y_val, average='weighted')\n",
    "    f1_gb = round(f1_gb, 5)\n",
    "   \n",
    "    return f1_gb\n",
    "\n",
    "\n",
    "# 7\n",
    "def Bagging(X, y, X_val, y_val, X_test, del_index):\n",
    "    X_train = X[del_index]\n",
    "    X_val = X_val[del_index]\n",
    "    \n",
    "\n",
    "    min_max_scaler = preprocessing.MinMaxScaler()\n",
    "    X_train = min_max_scaler.fit_transform(X_train)\n",
    "    X_val = min_max_scaler.transform(X_val)\n",
    "\n",
    "    y_train = np.array(y).ravel()\n",
    "    y_val = np.array(y_val).ravel()\n",
    "    \n",
    "    bagging_model = BaggingClassifier(\n",
    "        base_estimator= ExtraTreeClassifier(criterion = 'entropy',max_features = 'auto',random_state=0),\n",
    "        n_estimators = 170,\n",
    "        max_samples = 6400,\n",
    "        random_state = 20\n",
    "    )  \n",
    "    bagging_model.fit(X_train, y_train )\n",
    "    y_pred_bag = bagging_model.predict(X_val)\n",
    "    \n",
    "    f1_bag= f1_score(y_val, y_pred_bag, average='weighted')\n",
    "    f1_bag = round(f1_bag,5)\n",
    "    \n",
    "    return f1_bag\n",
    "\n",
    "\n",
    "# 8\n",
    "def ada_classifier(X, y, X_val, y_val, X_test, del_index): # Adaboost\n",
    "    scaler = StandardScaler()\n",
    "    X_train = scaler.fit_transform(X)\n",
    "    X_val = scaler.transform(X_val)\n",
    "    \n",
    "\n",
    "    X_train = pd.DataFrame(X_train)\n",
    "    X_val = pd.DataFrame(X_val)\n",
    "    \n",
    "    \n",
    "    X_train = X_train[del_index]\n",
    "    X_val = X_val[del_index]\n",
    "    \n",
    "    \n",
    "    X_train = np.array(X_train)\n",
    "    X_val =np.array(X_val)\n",
    "    y_train = np.array(y).ravel()\n",
    "    y_val = np.array(y_val).ravel()\n",
    "    \n",
    "    clf = AdaBoostClassifier(DecisionTreeClassifier(max_depth=12), n_estimators=150)\n",
    "    clf.fit(X_train, y_train)\n",
    "    y_pred_val = clf.predict(X_val)\n",
    "    \n",
    "    f1_ada = f1_score(y_val, y_pred_val, average='weighted')\n",
    "    f1_ada = round(f1_ada,5)\n",
    "    \n",
    "    return f1_ada\n",
    "  \n",
    "# 9\n",
    "def scv_classifier(X, y, X_val, y_val, X_test, del_index):   # SVM method\n",
    "    # normalization\n",
    "    scaler = StandardScaler()\n",
    "    X_train = scaler.fit_transform(X) \n",
    "    X_val = scaler.transform(X_val)\n",
    "    \n",
    "    X_train = pd.DataFrame(X_train)\n",
    "    X_val = pd.DataFrame(X_val)\n",
    "    \n",
    "    \n",
    "    X_train = X_train[del_index]\n",
    "    X_val = X_val[del_index]\n",
    "    \n",
    "    \n",
    "    X_train = np.array(X_train)\n",
    "    X_val =np.array(X_val)\n",
    "    y_train = np.array(y).ravel()\n",
    "    y_val = np.array(y_val).ravel()\n",
    "    \n",
    "    \n",
    "    # train\n",
    "    svc = svm.SVC(C=2.0)\n",
    "    svc.fit(X_train, y_train)\n",
    "\n",
    "    y_pred_val = svc.predict(X_val)\n",
    "    f1_svm = f1_score(y_val, y_pred_val, average='weighted')\n",
    "    f1_svm = round(f1_svm,5)\n",
    "    return f1_svm\n",
    "\n",
    "# 10\n",
    "def lr_classfier(X, y, X_val, y_val, X_test, del_index): \n",
    "    scaler = StandardScaler()\n",
    "    Xtrain = scaler.fit_transform(X)\n",
    "    X_val = scaler.transform(X_val)\n",
    "    \n",
    "    \n",
    "    Xtrain =pd.DataFrame(Xtrain)\n",
    "    Xval = pd.DataFrame(X_val)\n",
    "    \n",
    "    Xtrain = Xtrain[del_index]\n",
    "    Xval = Xval[del_index]\n",
    "    \n",
    "    \n",
    "    \n",
    "    y= np.array(y).ravel()\n",
    "    y_val = np.array(y_val).ravel()\n",
    "    \n",
    "    \n",
    "    Xtrain = np.array(Xtrain)\n",
    "    Xval = np.array(Xval)\n",
    "   \n",
    "   \n",
    "    \n",
    "\n",
    "    clf = LogisticRegression(C=10.1,solver = 'newton-cg', max_iter=500)\n",
    "\n",
    "    clf.fit(X, y)\n",
    "\n",
    "    pred_val_y = clf.predict(X_val)\n",
    "    \n",
    "    f1_lr = f1_score(y_val, pred_val_y, average='weighted')\n",
    "    f1_lr =  round(f1_lr,5)\n",
    "    \n",
    "    return f1_lr\n",
    "\n"
   ]
  },
  {
   "cell_type": "code",
   "execution_count": 13,
   "id": "4ea8519a",
   "metadata": {},
   "outputs": [],
   "source": [
    "\n",
    "#  for gini\n",
    "\n",
    "\n",
    "gini_knn = []\n",
    "gini_randomForest =[]\n",
    "\n",
    "gini_extratree =[]\n",
    "gini_xgboost=[]\n",
    "\n",
    "gini_light_gbm =[]\n",
    "gini_gradientBoosting = []\n",
    "\n",
    "gini_bagging= []\n",
    "gini_adaboost = []\n",
    "\n",
    "gini_svm = []\n",
    "gini_logistic_regression = []\n",
    "\n",
    "for i in range(1, len(gini)):\n",
    "    gini_temp = gini[:i]\n",
    "    \n",
    "    f1 = KNN(X, y, X_val, y_val, X_test, gini_temp)\n",
    "    gini_knn.append(f1)"
   ]
  },
  {
   "cell_type": "code",
   "execution_count": 15,
   "id": "f03f4ed8",
   "metadata": {},
   "outputs": [
    {
     "name": "stdout",
     "output_type": "stream",
     "text": [
      "[0.36389, 0.69603, 0.802, 0.89126, 0.91069, 0.95827, 0.97733, 0.98131, 0.98238, 0.9831, 0.98525, 0.98813, 0.98813, 0.99137, 0.99209, 0.99138, 0.99209, 0.9921, 0.99138, 0.99174, 0.99209, 0.99209, 0.99245, 0.99245, 0.99353, 0.99281, 0.99353, 0.99353, 0.99353, 0.9946, 0.99388, 0.99352, 0.99388, 0.99424]\n"
     ]
    }
   ],
   "source": [
    "print(gini_knn)"
   ]
  },
  {
   "cell_type": "code",
   "execution_count": 16,
   "id": "0e743130",
   "metadata": {},
   "outputs": [
    {
     "name": "stdout",
     "output_type": "stream",
     "text": [
      "====================\n"
     ]
    }
   ],
   "source": [
    "for i in range(1, len(gini)):\n",
    "    gini_temp = gini[:i]\n",
    "    f2 = RF(X, y, X_val, y_val, X_test, gini_temp)\n",
    "    gini_randomForest.append(f2) \n",
    "print(\"====================\")"
   ]
  },
  {
   "cell_type": "code",
   "execution_count": 17,
   "id": "774e3bd8",
   "metadata": {},
   "outputs": [
    {
     "name": "stdout",
     "output_type": "stream",
     "text": [
      "====================\n"
     ]
    }
   ],
   "source": [
    "for i in range(1, len(gini)):\n",
    "    gini_temp = gini[:i]\n",
    "    f3 =extraTree(X, y, X_val, y_val, X_test, gini_temp)\n",
    "    gini_extratree.append(f3) \n",
    "print(\"====================\")"
   ]
  },
  {
   "cell_type": "code",
   "execution_count": 18,
   "id": "2b48b05d",
   "metadata": {},
   "outputs": [
    {
     "name": "stdout",
     "output_type": "stream",
     "text": [
      "====================\n"
     ]
    }
   ],
   "source": [
    "for i in range(1, len(gini)):\n",
    "    gini_temp = gini[:i]\n",
    "    f4 = xgboost(X, y, X_val, y_val, X_test, gini_temp)\n",
    "    gini_xgboost.append(f4)\n",
    "print(\"====================\")"
   ]
  },
  {
   "cell_type": "code",
   "execution_count": 19,
   "id": "697ff0df",
   "metadata": {},
   "outputs": [
    {
     "name": "stdout",
     "output_type": "stream",
     "text": [
      "====================\n"
     ]
    }
   ],
   "source": [
    "for i in range(1, len(gini)):\n",
    "    gini_temp = gini[:i]\n",
    "    f5 = Light_gbm(X, y, X_val, y_val, X_test, gini_temp)\n",
    "    gini_light_gbm.append(f5)\n",
    "print(\"====================\")"
   ]
  },
  {
   "cell_type": "code",
   "execution_count": 22,
   "id": "5e0c5595",
   "metadata": {},
   "outputs": [
    {
     "name": "stdout",
     "output_type": "stream",
     "text": [
      "====================\n"
     ]
    }
   ],
   "source": [
    "for i in range(1, len(gini)):\n",
    "    gini_temp = gini[:i]\n",
    "    f6 = GradientBoosting(X, y, X_val, y_val, X_test, gini_temp)\n",
    "    gini_gradientBoosting.append(f6)  \n",
    "print(\"====================\")"
   ]
  },
  {
   "cell_type": "code",
   "execution_count": 23,
   "id": "ca831225",
   "metadata": {},
   "outputs": [
    {
     "name": "stdout",
     "output_type": "stream",
     "text": [
      "====================\n"
     ]
    }
   ],
   "source": [
    "for i in range(1, len(gini)):\n",
    "    gini_temp = gini[:i]\n",
    "    f7 =Bagging(X, y, X_val, y_val, X_test, gini_temp)\n",
    "    gini_bagging.append(f7)\n",
    "print(\"====================\")"
   ]
  },
  {
   "cell_type": "code",
   "execution_count": 25,
   "id": "266490e8",
   "metadata": {},
   "outputs": [
    {
     "name": "stdout",
     "output_type": "stream",
     "text": [
      "====================\n"
     ]
    }
   ],
   "source": [
    "for i in range(1, len(gini)):\n",
    "    gini_temp = gini[:i]\n",
    "    f8 = ada_classifier(X, y, X_val, y_val, X_test, gini_temp)\n",
    "    gini_adaboost.append(f8)\n",
    "print(\"====================\")"
   ]
  },
  {
   "cell_type": "code",
   "execution_count": 26,
   "id": "124d3cd8",
   "metadata": {},
   "outputs": [
    {
     "name": "stdout",
     "output_type": "stream",
     "text": [
      "====================\n"
     ]
    }
   ],
   "source": [
    "for i in range(1, len(gini)):\n",
    "    gini_temp = gini[:i]\n",
    "    f9 = scv_classifier(X, y, X_val, y_val, X_test, gini_temp)\n",
    "    gini_svm.append(f9)\n",
    "print(\"====================\")\n"
   ]
  },
  {
   "cell_type": "code",
   "execution_count": 43,
   "id": "fdaa960c",
   "metadata": {},
   "outputs": [
    {
     "name": "stderr",
     "output_type": "stream",
     "text": [
      "/opt/anaconda3/envs/COMP9444/lib/python3.7/site-packages/sklearn/utils/optimize.py:212: ConvergenceWarning: newton-cg failed to converge. Increase the number of iterations.\n",
      "  \"number of iterations.\", ConvergenceWarning)\n",
      "/opt/anaconda3/envs/COMP9444/lib/python3.7/site-packages/sklearn/utils/optimize.py:212: ConvergenceWarning: newton-cg failed to converge. Increase the number of iterations.\n",
      "  \"number of iterations.\", ConvergenceWarning)\n",
      "/opt/anaconda3/envs/COMP9444/lib/python3.7/site-packages/sklearn/utils/optimize.py:212: ConvergenceWarning: newton-cg failed to converge. Increase the number of iterations.\n",
      "  \"number of iterations.\", ConvergenceWarning)\n",
      "/opt/anaconda3/envs/COMP9444/lib/python3.7/site-packages/sklearn/utils/optimize.py:212: ConvergenceWarning: newton-cg failed to converge. Increase the number of iterations.\n",
      "  \"number of iterations.\", ConvergenceWarning)\n",
      "/opt/anaconda3/envs/COMP9444/lib/python3.7/site-packages/sklearn/utils/optimize.py:212: ConvergenceWarning: newton-cg failed to converge. Increase the number of iterations.\n",
      "  \"number of iterations.\", ConvergenceWarning)\n",
      "/opt/anaconda3/envs/COMP9444/lib/python3.7/site-packages/sklearn/utils/optimize.py:212: ConvergenceWarning: newton-cg failed to converge. Increase the number of iterations.\n",
      "  \"number of iterations.\", ConvergenceWarning)\n",
      "/opt/anaconda3/envs/COMP9444/lib/python3.7/site-packages/sklearn/utils/optimize.py:212: ConvergenceWarning: newton-cg failed to converge. Increase the number of iterations.\n",
      "  \"number of iterations.\", ConvergenceWarning)\n",
      "/opt/anaconda3/envs/COMP9444/lib/python3.7/site-packages/sklearn/utils/optimize.py:212: ConvergenceWarning: newton-cg failed to converge. Increase the number of iterations.\n",
      "  \"number of iterations.\", ConvergenceWarning)\n",
      "/opt/anaconda3/envs/COMP9444/lib/python3.7/site-packages/sklearn/utils/optimize.py:212: ConvergenceWarning: newton-cg failed to converge. Increase the number of iterations.\n",
      "  \"number of iterations.\", ConvergenceWarning)\n",
      "/opt/anaconda3/envs/COMP9444/lib/python3.7/site-packages/sklearn/utils/optimize.py:212: ConvergenceWarning: newton-cg failed to converge. Increase the number of iterations.\n",
      "  \"number of iterations.\", ConvergenceWarning)\n",
      "/opt/anaconda3/envs/COMP9444/lib/python3.7/site-packages/sklearn/utils/optimize.py:212: ConvergenceWarning: newton-cg failed to converge. Increase the number of iterations.\n",
      "  \"number of iterations.\", ConvergenceWarning)\n",
      "/opt/anaconda3/envs/COMP9444/lib/python3.7/site-packages/sklearn/utils/optimize.py:212: ConvergenceWarning: newton-cg failed to converge. Increase the number of iterations.\n",
      "  \"number of iterations.\", ConvergenceWarning)\n",
      "/opt/anaconda3/envs/COMP9444/lib/python3.7/site-packages/sklearn/utils/optimize.py:212: ConvergenceWarning: newton-cg failed to converge. Increase the number of iterations.\n",
      "  \"number of iterations.\", ConvergenceWarning)\n",
      "/opt/anaconda3/envs/COMP9444/lib/python3.7/site-packages/sklearn/utils/optimize.py:212: ConvergenceWarning: newton-cg failed to converge. Increase the number of iterations.\n",
      "  \"number of iterations.\", ConvergenceWarning)\n",
      "/opt/anaconda3/envs/COMP9444/lib/python3.7/site-packages/sklearn/utils/optimize.py:212: ConvergenceWarning: newton-cg failed to converge. Increase the number of iterations.\n",
      "  \"number of iterations.\", ConvergenceWarning)\n",
      "/opt/anaconda3/envs/COMP9444/lib/python3.7/site-packages/sklearn/utils/optimize.py:212: ConvergenceWarning: newton-cg failed to converge. Increase the number of iterations.\n",
      "  \"number of iterations.\", ConvergenceWarning)\n",
      "/opt/anaconda3/envs/COMP9444/lib/python3.7/site-packages/sklearn/utils/optimize.py:212: ConvergenceWarning: newton-cg failed to converge. Increase the number of iterations.\n",
      "  \"number of iterations.\", ConvergenceWarning)\n",
      "/opt/anaconda3/envs/COMP9444/lib/python3.7/site-packages/sklearn/utils/optimize.py:212: ConvergenceWarning: newton-cg failed to converge. Increase the number of iterations.\n",
      "  \"number of iterations.\", ConvergenceWarning)\n",
      "/opt/anaconda3/envs/COMP9444/lib/python3.7/site-packages/sklearn/utils/optimize.py:212: ConvergenceWarning: newton-cg failed to converge. Increase the number of iterations.\n",
      "  \"number of iterations.\", ConvergenceWarning)\n",
      "/opt/anaconda3/envs/COMP9444/lib/python3.7/site-packages/sklearn/utils/optimize.py:212: ConvergenceWarning: newton-cg failed to converge. Increase the number of iterations.\n",
      "  \"number of iterations.\", ConvergenceWarning)\n",
      "/opt/anaconda3/envs/COMP9444/lib/python3.7/site-packages/sklearn/utils/optimize.py:212: ConvergenceWarning: newton-cg failed to converge. Increase the number of iterations.\n",
      "  \"number of iterations.\", ConvergenceWarning)\n",
      "/opt/anaconda3/envs/COMP9444/lib/python3.7/site-packages/sklearn/utils/optimize.py:212: ConvergenceWarning: newton-cg failed to converge. Increase the number of iterations.\n",
      "  \"number of iterations.\", ConvergenceWarning)\n",
      "/opt/anaconda3/envs/COMP9444/lib/python3.7/site-packages/sklearn/utils/optimize.py:212: ConvergenceWarning: newton-cg failed to converge. Increase the number of iterations.\n",
      "  \"number of iterations.\", ConvergenceWarning)\n",
      "/opt/anaconda3/envs/COMP9444/lib/python3.7/site-packages/sklearn/utils/optimize.py:212: ConvergenceWarning: newton-cg failed to converge. Increase the number of iterations.\n",
      "  \"number of iterations.\", ConvergenceWarning)\n",
      "/opt/anaconda3/envs/COMP9444/lib/python3.7/site-packages/sklearn/utils/optimize.py:212: ConvergenceWarning: newton-cg failed to converge. Increase the number of iterations.\n",
      "  \"number of iterations.\", ConvergenceWarning)\n",
      "/opt/anaconda3/envs/COMP9444/lib/python3.7/site-packages/sklearn/utils/optimize.py:212: ConvergenceWarning: newton-cg failed to converge. Increase the number of iterations.\n",
      "  \"number of iterations.\", ConvergenceWarning)\n",
      "/opt/anaconda3/envs/COMP9444/lib/python3.7/site-packages/sklearn/utils/optimize.py:212: ConvergenceWarning: newton-cg failed to converge. Increase the number of iterations.\n",
      "  \"number of iterations.\", ConvergenceWarning)\n",
      "/opt/anaconda3/envs/COMP9444/lib/python3.7/site-packages/sklearn/utils/optimize.py:212: ConvergenceWarning: newton-cg failed to converge. Increase the number of iterations.\n",
      "  \"number of iterations.\", ConvergenceWarning)\n",
      "/opt/anaconda3/envs/COMP9444/lib/python3.7/site-packages/sklearn/utils/optimize.py:212: ConvergenceWarning: newton-cg failed to converge. Increase the number of iterations.\n",
      "  \"number of iterations.\", ConvergenceWarning)\n",
      "/opt/anaconda3/envs/COMP9444/lib/python3.7/site-packages/sklearn/utils/optimize.py:212: ConvergenceWarning: newton-cg failed to converge. Increase the number of iterations.\n",
      "  \"number of iterations.\", ConvergenceWarning)\n",
      "/opt/anaconda3/envs/COMP9444/lib/python3.7/site-packages/sklearn/utils/optimize.py:212: ConvergenceWarning: newton-cg failed to converge. Increase the number of iterations.\n",
      "  \"number of iterations.\", ConvergenceWarning)\n",
      "/opt/anaconda3/envs/COMP9444/lib/python3.7/site-packages/sklearn/utils/optimize.py:212: ConvergenceWarning: newton-cg failed to converge. Increase the number of iterations.\n",
      "  \"number of iterations.\", ConvergenceWarning)\n",
      "/opt/anaconda3/envs/COMP9444/lib/python3.7/site-packages/sklearn/utils/optimize.py:212: ConvergenceWarning: newton-cg failed to converge. Increase the number of iterations.\n",
      "  \"number of iterations.\", ConvergenceWarning)\n"
     ]
    },
    {
     "name": "stdout",
     "output_type": "stream",
     "text": [
      "====================\n"
     ]
    },
    {
     "name": "stderr",
     "output_type": "stream",
     "text": [
      "/opt/anaconda3/envs/COMP9444/lib/python3.7/site-packages/sklearn/utils/optimize.py:212: ConvergenceWarning: newton-cg failed to converge. Increase the number of iterations.\n",
      "  \"number of iterations.\", ConvergenceWarning)\n"
     ]
    }
   ],
   "source": [
    "gini_logistic_regression_iteration = []\n",
    "\n",
    "for i in range(1, len(gini)):\n",
    "    gini_temp = gini[:i]\n",
    "    f10 = lr_classfier(X, y, X_val, y_val, X_test, gini_temp)\n",
    "    gini_logistic_regression_iteration.append(f10)\n",
    "print(\"====================\")"
   ]
  },
  {
   "cell_type": "code",
   "execution_count": 31,
   "id": "055a2eab",
   "metadata": {},
   "outputs": [
    {
     "name": "stdout",
     "output_type": "stream",
     "text": [
      "[0.36389, 0.69603, 0.802, 0.89126, 0.91069, 0.95827, 0.97733, 0.98131, 0.98238, 0.9831, 0.98525, 0.98813, 0.98813, 0.99137, 0.99209, 0.99138, 0.99209, 0.9921, 0.99138, 0.99174, 0.99209, 0.99209, 0.99245, 0.99245, 0.99353, 0.99281, 0.99353, 0.99353, 0.99353, 0.9946, 0.99388, 0.99352, 0.99388, 0.99424]\n"
     ]
    }
   ],
   "source": [
    "print(gini_knn)"
   ]
  },
  {
   "cell_type": "code",
   "execution_count": 32,
   "id": "d57c3fce",
   "metadata": {},
   "outputs": [
    {
     "name": "stdout",
     "output_type": "stream",
     "text": [
      "[0.36461, 0.72012, 0.86403, 0.91585, 0.9213, 0.96104, 0.97404, 0.97767, 0.98058, 0.98454, 0.98742, 0.98706, 0.98778, 0.99065, 0.98922, 0.98993, 0.98921, 0.99065, 0.99065, 0.98921, 0.99101, 0.99029, 0.99029, 0.98884, 0.98957, 0.98956, 0.98884, 0.98849, 0.99101, 0.99029, 0.99029, 0.99065, 0.99101, 0.99029]\n"
     ]
    }
   ],
   "source": [
    "print(gini_randomForest)"
   ]
  },
  {
   "cell_type": "code",
   "execution_count": 33,
   "id": "eefd949a",
   "metadata": {},
   "outputs": [
    {
     "name": "stdout",
     "output_type": "stream",
     "text": [
      "[0.36643, 0.7168, 0.87372, 0.92439, 0.93487, 0.97332, 0.98235, 0.98309, 0.98453, 0.98849, 0.99065, 0.99101, 0.98921, 0.99209, 0.99173, 0.99029, 0.99173, 0.99101, 0.99173, 0.99065, 0.99102, 0.99065, 0.99101, 0.99065, 0.99173, 0.99101, 0.99209, 0.99173, 0.99245, 0.99245, 0.99281, 0.99281, 0.99245, 0.99245]\n"
     ]
    }
   ],
   "source": [
    "print(gini_extratree)"
   ]
  },
  {
   "cell_type": "code",
   "execution_count": 34,
   "id": "2f26e16f",
   "metadata": {},
   "outputs": [
    {
     "name": "stdout",
     "output_type": "stream",
     "text": [
      "[0.44087, 0.71871, 0.8501, 0.90442, 0.91493, 0.96046, 0.9759, 0.97663, 0.9795, 0.98489, 0.98814, 0.98814, 0.98886, 0.98957, 0.9867, 0.98778, 0.98993, 0.98993, 0.98957, 0.98993, 0.99029, 0.99029, 0.99065, 0.99065, 0.99029, 0.98993, 0.99065, 0.99065, 0.99065, 0.99064, 0.99136, 0.99065, 0.99029, 0.99065]\n"
     ]
    }
   ],
   "source": [
    "print(gini_xgboost)"
   ]
  },
  {
   "cell_type": "code",
   "execution_count": 35,
   "id": "1ddaffb7",
   "metadata": {},
   "outputs": [
    {
     "name": "stdout",
     "output_type": "stream",
     "text": [
      "[0.45819, 0.72205, 0.82574, 0.87904, 0.89948, 0.95613, 0.97231, 0.97593, 0.97664, 0.98347, 0.98525, 0.98526, 0.9867, 0.98993, 0.9885, 0.98922, 0.98922, 0.98886, 0.98958, 0.98886, 0.98922, 0.98957, 0.98957, 0.99029, 0.98958, 0.98957, 0.98921, 0.99029, 0.99029, 0.99065, 0.98957, 0.99101, 0.98993, 0.99029]\n"
     ]
    }
   ],
   "source": [
    "print(gini_light_gbm)"
   ]
  },
  {
   "cell_type": "code",
   "execution_count": 36,
   "id": "b673ecda",
   "metadata": {},
   "outputs": [
    {
     "name": "stdout",
     "output_type": "stream",
     "text": [
      "[0.4542, 0.68838, 0.76465, 0.82343, 0.85187, 0.92917, 0.96118, 0.96518, 0.96483, 0.9788, 0.98239, 0.98131, 0.98058, 0.98345, 0.98131, 0.98167, 0.98741, 0.98526, 0.98634, 0.98454, 0.98562, 0.98742, 0.98561, 0.98742, 0.98705, 0.98813, 0.98886, 0.9885, 0.98885, 0.98957, 0.98993, 0.98886, 0.98885, 0.98922]\n"
     ]
    }
   ],
   "source": [
    "print(gini_gradientBoosting)"
   ]
  },
  {
   "cell_type": "code",
   "execution_count": 37,
   "id": "de0c5c24",
   "metadata": {},
   "outputs": [
    {
     "name": "stdout",
     "output_type": "stream",
     "text": [
      "[0.38906, 0.72733, 0.86543, 0.91649, 0.92767, 0.96789, 0.97839, 0.97983, 0.98094, 0.98597, 0.98705, 0.9885, 0.98993, 0.98957, 0.99065, 0.98993, 0.98993, 0.98992, 0.98992, 0.99065, 0.99101, 0.98992, 0.99065, 0.98956, 0.99029, 0.99029, 0.99029, 0.99065, 0.99065, 0.99065, 0.99173, 0.99137, 0.99137, 0.99137]\n"
     ]
    }
   ],
   "source": [
    "print(gini_bagging)"
   ]
  },
  {
   "cell_type": "code",
   "execution_count": 38,
   "id": "694f2df4",
   "metadata": {},
   "outputs": [
    {
     "name": "stdout",
     "output_type": "stream",
     "text": [
      "[0.36624, 0.71604, 0.87094, 0.91838, 0.92739, 0.97119, 0.9802, 0.98597, 0.98597, 0.98994, 0.9903, 0.99102, 0.99138, 0.99245, 0.99101, 0.99174, 0.99209, 0.99173, 0.99245, 0.99173, 0.99137, 0.99281, 0.99245, 0.99245, 0.99137, 0.99173, 0.99173, 0.99209, 0.99245, 0.99209, 0.99209, 0.99281, 0.99209, 0.99317]\n"
     ]
    }
   ],
   "source": [
    "print(gini_adaboost)"
   ]
  },
  {
   "cell_type": "code",
   "execution_count": 39,
   "id": "004f16ac",
   "metadata": {},
   "outputs": [
    {
     "name": "stdout",
     "output_type": "stream",
     "text": [
      "[0.32487, 0.46464, 0.50728, 0.643, 0.64162, 0.82615, 0.92312, 0.93529, 0.93899, 0.94705, 0.94998, 0.95314, 0.9528, 0.96534, 0.96425, 0.96642, 0.96926, 0.96891, 0.96962, 0.96891, 0.97073, 0.97401, 0.97402, 0.97438, 0.97475, 0.97437, 0.97767, 0.98129, 0.98202, 0.98202, 0.98094, 0.98058, 0.98166, 0.98202]\n"
     ]
    }
   ],
   "source": [
    "print(gini_svm)"
   ]
  },
  {
   "cell_type": "code",
   "execution_count": 44,
   "id": "c26d7596",
   "metadata": {},
   "outputs": [
    {
     "name": "stdout",
     "output_type": "stream",
     "text": [
      "[0.21838, 0.21838, 0.21838, 0.21838, 0.21838, 0.21838, 0.21838, 0.21838, 0.21838, 0.21838, 0.21838, 0.21838, 0.21838, 0.21838, 0.21838, 0.21838, 0.21838, 0.21838, 0.21838, 0.21838, 0.21838, 0.21838, 0.21838, 0.21838, 0.21838, 0.21838, 0.21838, 0.21838, 0.21838, 0.21838, 0.21838, 0.21838, 0.21838, 0.21838]\n"
     ]
    }
   ],
   "source": [
    "print(gini_logistic_regression_iteration)"
   ]
  },
  {
   "cell_type": "code",
   "execution_count": 54,
   "id": "5fa9ad0e",
   "metadata": {},
   "outputs": [
    {
     "data": {
      "image/png": "[encoded data removed]",
      "text/plain": [
       "<Figure size 1080x864 with 1 Axes>"
      ]
     },
     "metadata": {
      "needs_background": "light"
     },
     "output_type": "display_data"
    }
   ],
   "source": [
    "\n",
    "\n",
    "gini_knn_1 = [0.36389, 0.69603, 0.802, 0.89126, 0.91069, 0.95827, 0.97733, 0.98131, 0.98238, 0.9831, 0.98525, 0.98813, 0.98813, 0.99137, 0.99209, 0.99138, 0.99209, 0.9921, 0.99138, 0.99174, 0.99209, 0.99209, 0.99245, 0.99245, 0.99353, 0.99281, 0.99353, 0.99353, 0.99353, 0.9946, 0.99388, 0.99352, 0.99388, 0.99424]\n",
    "gini_randomForest_1 = [0.36461, 0.72012, 0.86403, 0.91585, 0.9213, 0.96104, 0.97404, 0.97767, 0.98058, 0.98454, 0.98742, 0.98706, 0.98778, 0.99065, 0.98922, 0.98993, 0.98921, 0.99065, 0.99065, 0.98921, 0.99101, 0.99029, 0.99029, 0.98884, 0.98957, 0.98956, 0.98884, 0.98849, 0.99101, 0.99029, 0.99029, 0.99065, 0.99101, 0.99029]\n",
    "\n",
    "gini_extratree_1 = [0.36643, 0.7168, 0.87372, 0.92439, 0.93487, 0.97332, 0.98235, 0.98309, 0.98453, 0.98849, 0.99065, 0.99101, 0.98921, 0.99209, 0.99173, 0.99029, 0.99173, 0.99101, 0.99173, 0.99065, 0.99102, 0.99065, 0.99101, 0.99065, 0.99173, 0.99101, 0.99209, 0.99173, 0.99245, 0.99245, 0.99281, 0.99281, 0.99245, 0.99245]\n",
    "\n",
    "gini_xgboost_1= [0.44087, 0.71871, 0.8501, 0.90442, 0.91493, 0.96046, 0.9759, 0.97663, 0.9795, 0.98489, 0.98814, 0.98814, 0.98886, 0.98957, 0.9867, 0.98778, 0.98993, 0.98993, 0.98957, 0.98993, 0.99029, 0.99029, 0.99065, 0.99065, 0.99029, 0.98993, 0.99065, 0.99065, 0.99065, 0.99064, 0.99136, 0.99065, 0.99029, 0.99065]\n",
    "\n",
    "gini_light_gbm_1 = [0.45819, 0.72205, 0.82574, 0.87904, 0.89948, 0.95613, 0.97231, 0.97593, 0.97664, 0.98347, 0.98525, 0.98526, 0.9867, 0.98993, 0.9885, 0.98922, 0.98922, 0.98886, 0.98958, 0.98886, 0.98922, 0.98957, 0.98957, 0.99029, 0.98958, 0.98957, 0.98921, 0.99029, 0.99029, 0.99065, 0.98957, 0.99101, 0.98993, 0.99029]\n",
    "\n",
    "\n",
    "gini_gradientBoosting_1 = [0.4542, 0.68838, 0.76465, 0.82343, 0.85187, 0.92917, 0.96118, 0.96518, 0.96483, 0.9788, 0.98239, 0.98131, 0.98058, 0.98345, 0.98131, 0.98167, 0.98741, 0.98526, 0.98634, 0.98454, 0.98562, 0.98742, 0.98561, 0.98742, 0.98705, 0.98813, 0.98886, 0.9885, 0.98885, 0.98957, 0.98993, 0.98886, 0.98885, 0.98922]\n",
    "\n",
    "gini_bagging_1 = [0.38906, 0.72733, 0.86543, 0.91649, 0.92767, 0.96789, 0.97839, 0.97983, 0.98094, 0.98597, 0.98705, 0.9885, 0.98993, 0.98957, 0.99065, 0.98993, 0.98993, 0.98992, 0.98992, 0.99065, 0.99101, 0.98992, 0.99065, 0.98956, 0.99029, 0.99029, 0.99029, 0.99065, 0.99065, 0.99065, 0.99173, 0.99137, 0.99137, 0.99137]\n",
    "\n",
    "gini_adaboost_1 = [0.36624, 0.71604, 0.87094, 0.91838, 0.92739, 0.97119, 0.9802, 0.98597, 0.98597, 0.98994, 0.9903, 0.99102, 0.99138, 0.99245, 0.99101, 0.99174, 0.99209, 0.99173, 0.99245, 0.99173, 0.99137, 0.99281, 0.99245, 0.99245, 0.99137, 0.99173, 0.99173, 0.99209, 0.99245, 0.99209, 0.99209, 0.99281, 0.99209, 0.99317]\n",
    "\n",
    "gini_svm_1 = [0.32487, 0.46464, 0.50728, 0.643, 0.64162, 0.82615, 0.92312, 0.93529, 0.93899, 0.94705, 0.94998, 0.95314, 0.9528, 0.96534, 0.96425, 0.96642, 0.96926, 0.96891, 0.96962, 0.96891, 0.97073, 0.97401, 0.97402, 0.97438, 0.97475, 0.97437, 0.97767, 0.98129, 0.98202, 0.98202, 0.98094, 0.98058, 0.98166, 0.98202]\n",
    "\n",
    "gini_logistic_regression_1 = [0.21838, 0.21838, 0.21838, 0.21838, 0.21838, 0.21838, 0.21838, 0.21838, 0.21838, 0.21838, 0.21838, 0.21838, 0.21838, 0.21838, 0.21838, 0.21838, 0.21838, 0.21838, 0.21838, 0.21838, 0.21838, 0.21838, 0.21838, 0.21838, 0.21838, 0.21838, 0.21838, 0.21838, 0.21838, 0.21838, 0.21838, 0.21838, 0.21838, 0.21838]\n",
    "\n",
    "\n",
    "\n",
    "x = [i for i in range(1,len(gini))]\n",
    "plt.figure(figsize=(15,12))\n",
    "plt.title(\"Gini dims on different models\")\n",
    "# 1\n",
    "plt.plot(x, gini_knn_1, color='blue', label=\"KNN\")\n",
    "# 2\n",
    "plt.plot(x, gini_randomForest_1, color='Orange', label=\"RandomForest\")\n",
    "# 3\n",
    "plt.plot(x, gini_extratree_1, color='Lime', label=\"ExtraTree\")\n",
    "# 4\n",
    "plt.plot(x, gini_xgboost_1, color='Red', label=\"Xgboost\")\n",
    "# 5\n",
    "plt.plot(x, gini_light_gbm_1, color='DarkRed', label=\"Light-gbm\")\n",
    "# 6\n",
    "plt.plot(x, gini_gradientBoosting_1, color='Chocolate', label=\"GradientBoost\")\n",
    "# 7\n",
    "plt.plot(x, gini_bagging_1, color='lightgreen', label=\"Bagging\")\n",
    "# 8\n",
    "plt.plot(x, gini_adaboost_1, color='black', label=\"Adaboost\")\n",
    "# 9\n",
    "plt.plot(x, gini_svm_1, color='Orchid', label=\"SVM\")\n",
    "# 10\n",
    "# plt.plot(x, gini_logistic_regression_1, color='lightblue', label=\"LogisticRegression\")\n",
    "# ##############\n",
    "plt.legend()\n",
    "plt.grid(alpha=0.4,linestyle=':')\n",
    "\n",
    "plt.xlabel(\"Num of Features\")\n",
    "# plt.xticks(x, random_sizes, rotation=0)\n",
    "plt.ylabel(\"f1-score(weighted)\")\n",
    "plt.ylim(0.7,1)\n",
    "# plt.savefig('gini.png')\n",
    "plt.show()"
   ]
  },
  {
   "cell_type": "code",
   "execution_count": null,
   "id": "109caf42",
   "metadata": {},
   "outputs": [],
   "source": []
  },
  {
   "cell_type": "code",
   "execution_count": null,
   "id": "3ef8c1ff",
   "metadata": {},
   "outputs": [],
   "source": []
  }
 ],
 "metadata": {
  "kernelspec": {
   "display_name": "Python 3",
   "language": "python",
   "name": "python3"
  },
  "language_info": {
   "codemirror_mode": {
    "name": "ipython",
    "version": 3
   },
   "file_extension": ".py",
   "mimetype": "text/x-python",
   "name": "python",
   "nbconvert_exporter": "python",
   "pygments_lexer": "ipython3",
   "version": "3.7.7"
  }
 },
 "nbformat": 4,
 "nbformat_minor": 5
}
