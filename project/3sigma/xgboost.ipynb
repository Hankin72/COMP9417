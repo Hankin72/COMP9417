{
 "cells": [
  {
   "cell_type": "markdown",
   "metadata": {
    "id": "fZh5hvlcMV__"
   },
   "source": [
    "# XGBoost uses the classification of the Sklearn interface"
   ]
  },
  {
   "cell_type": "code",
   "execution_count": 1,
   "metadata": {
    "id": "lNUDI5_1nBof"
   },
   "outputs": [],
   "source": [
    "from xgboost.sklearn import XGBClassifier\n",
    "\n",
    "clf = XGBClassifier(\n",
    "    #If set to 1, there is no run information output, preferably 0. \n",
    "    #Whether to print messages while running the upgrade.\n",
    "    silent=0,  \n",
    "    learning_rate=0.01,\n",
    "    n_estimators=1000,\n",
    "    # With this parameter (3-10), the greater the depth of the construction tree, the easier it is to overfit\n",
    "    max_depth= 7,    \n",
    "    min_child_weight = 1,\n",
    "\n",
    "    \n",
    "    gamma = 0.1,  \n",
    "\n",
    "    \n",
    "    colsample_bytree=0.9, \n",
    "    subsample=0.8,  \n",
    "    \n",
    "    # The maximum incremental step size we allow for each tree weight estimate\n",
    "    # max_delta_step=0,      \n",
    "    \n",
    "    #The multi-category questions specify learning tasks and corresponding learning objectives\n",
    "    #objective= 'multi:softmax',\n",
    "    objective= 'multi:softmax',\n",
    "    reg_lambda=1,\n",
    "\n",
    "    #reg_alpha=0.01,  # L1 regular term parameter\n",
    "\n",
    "    # nthread=4,   # The number of CPU threads is maximum by default\n",
    "\n",
    "    # scale_pos_weight=1,   \n",
    "    #     If the value is greater than 0, \n",
    "    #     it is conducive to rapid convergence and balance the positive \n",
    "    #     and negative weights in the case of unbalanced category samples\n",
    "    seed = 20,\n",
    "    nuum_class =6\n",
    ")\n"
   ]
  },
  {
   "cell_type": "code",
   "execution_count": 2,
   "metadata": {
    "id": "S__L_3QIne1Y"
   },
   "outputs": [],
   "source": [
    "import pandas as pd\n",
    "X_train = pd.read_csv(\"../MLinTheUnknown-Data/X_train.csv\", header=None)\n",
    "y_train = pd.read_csv(\"../MLinTheUnknown-Data/y_train.csv\", header=None)\n",
    "X_val = pd.read_csv(\"../MLinTheUnknown-Data/X_val.csv\", header=None)\n",
    "y_val = pd.read_csv(\"../MLinTheUnknown-Data/y_val.csv\", header=None)\n",
    "X_test = pd.read_csv(\"../MLinTheUnknown-Data/X_test.csv\", header=None)"
   ]
  },
  {
   "cell_type": "markdown",
   "metadata": {
    "id": "vI-6MfScMbWm"
   },
   "source": [
    "# PCA--dimension reduc"
   ]
  },
  {
   "cell_type": "code",
   "execution_count": 3,
   "metadata": {
    "id": "xxy1Yp1CDF-7"
   },
   "outputs": [],
   "source": [
    "from sklearn.decomposition import PCA, IncrementalPCA\n",
    "import numpy as np\n",
    "\n",
    "\n",
    "\n",
    "pca = PCA(n_components=40, random_state=42)\n",
    "# random_state=42\n",
    "X_train = pca.fit_transform (X_train)\n",
    "X_val = pca.transform (X_val)\n",
    "\n",
    "\n",
    "# del_dims = filter_features(X_train, y_train)\n",
    "# X_train, y_train = del_features(X_train,y_train, del_dims)\n",
    "# X_val,  y_val  = del_features(X_val,y_val, del_dims)\n",
    "\n"
   ]
  },
  {
   "cell_type": "code",
   "execution_count": 4,
   "metadata": {},
   "outputs": [],
   "source": [
    "from sklearn.preprocessing import StandardScaler\n",
    "import numpy as np\n",
    "from sklearn import preprocessing\n",
    "from sklearn.preprocessing import Normalizer\n",
    "\n",
    "# scaler = StandardScaler()\n",
    "# X_train = scaler.fit_transform(X_train)\n",
    "# X_val = scaler.transform(X_val)\n",
    "\n",
    "#  min-max noramlizaion\n",
    "min_max_scaler = preprocessing.MinMaxScaler()\n",
    "X_train = min_max_scaler.fit_transform(X_train)\n",
    "X_val = min_max_scaler.transform(X_val)\n",
    "\n",
    "# normalizer = Normalizer()\n",
    "# X_train = normalizer.fit_transform(X_train)\n",
    "# X_val = normalizer.transform(X_val)\n"
   ]
  },
  {
   "cell_type": "markdown",
   "metadata": {
    "id": "nAtbru_bMe0E"
   },
   "source": [
    "#Normalization"
   ]
  },
  {
   "cell_type": "markdown",
   "metadata": {
    "id": "YhVDTGtCZUJg"
   },
   "source": [
    "# hyper-parameter tuning"
   ]
  },
  {
   "cell_type": "markdown",
   "metadata": {
    "id": "tKZPItwWerAa"
   },
   "source": [
    "## step1: max_depth  and min_weight  selecting"
   ]
  },
  {
   "cell_type": "code",
   "execution_count": 5,
   "metadata": {
    "id": "xpFz-g7AZrmk"
   },
   "outputs": [],
   "source": [
    "from sklearn.metrics import f1_score\n",
    "from sklearn.model_selection import GridSearchCV\n",
    "from sklearn.model_selection import KFold\n",
    "import numpy as np\n",
    "\n",
    "from sklearn.model_selection import RandomizedSearchCV\n",
    "# param_grid\n",
    "# param_distributions\n",
    "kf = KFold( shuffle = True, random_state=0)\n",
    "\n",
    "params_test = False\n",
    "\n",
    "\n",
    "if params_test == True:\n",
    "    param_test1 = {\n",
    "    'max_depth':range(3,11,2),\n",
    "    'min_child_weight':range(1,6,2)\n",
    "    }\n",
    "\n",
    "    gsearch1 = GridSearchCV(\n",
    "        estimator = XGBClassifier(), \n",
    "        param_grid = param_test1,\n",
    "\n",
    "        scoring='f1_macro',\n",
    "        n_jobs=-1,\n",
    "        cv= kf,\n",
    "        verbose=3\n",
    "       \n",
    "    )\n",
    "\n",
    "    gsearch1.fit(X_train, y_train)\n",
    "\n",
    "\n",
    "    print(gsearch1.best_params_)\n",
    "    print()\n",
    "    print(gsearch1.best_score_)\n",
    "    print()\n",
    "    print()\n",
    "\n"
   ]
  },
  {
   "cell_type": "markdown",
   "metadata": {
    "id": "0RzfABfYes9h"
   },
   "source": [
    "## step2:Gamma and N_ESTIMATORS  tuning"
   ]
  },
  {
   "cell_type": "code",
   "execution_count": 6,
   "metadata": {
    "id": "hWH1eJ8_b9JC"
   },
   "outputs": [],
   "source": [
    "from sklearn.model_selection import RandomizedSearchCV\n",
    "from sklearn.model_selection import GridSearchCV\n",
    "\n",
    "\n",
    "Gamma =False\n",
    "\n",
    "if Gamma== True:\n",
    "    param_test2 = {\n",
    "        'gamma':[i/10.0 for i in range(0,5)],\n",
    "        }\n",
    "    gsearch2 = GridSearchCV(\n",
    "        estimator = XGBClassifier(),              \n",
    "        param_grid = param_test2, \n",
    "\n",
    "        scoring='f1_macro',\n",
    "        n_jobs=-1,\n",
    "        cv= kf,\n",
    "        verbose=3\n",
    "        )\n",
    "    gsearch2.fit(X_train, y_train)\n",
    "    print(gsearch2.best_params_)\n",
    "    print()\n",
    "    print(gsearch2.best_score_)\n",
    "    print()\n",
    "    print()\n",
    "\n"
   ]
  },
  {
   "cell_type": "markdown",
   "metadata": {
    "id": "ecPRXQO_hQWb"
   },
   "source": [
    "## step3: subsample and colsample_bytree  tuning"
   ]
  },
  {
   "cell_type": "code",
   "execution_count": 7,
   "metadata": {
    "id": "CjyH7JMHZcrU"
   },
   "outputs": [],
   "source": [
    "\n",
    "from sklearn.model_selection import RandomizedSearchCV\n",
    "from sklearn.model_selection import GridSearchCV\n",
    "\n",
    "punning_params4= False\n",
    "if punning_params4==True:\n",
    "    param_test3 = {\n",
    "        'subsample':[i/10.0 for i in range(6,10)],\n",
    "        'colsample_bytree':[i/10.0 for i in range(6,10)],\n",
    "        }\n",
    "    \n",
    "    gsearch3 = GridSearchCV(\n",
    "        estimator = XGBClassifier(),   \n",
    "        param_grid = param_test3, \n",
    "        scoring='f1_macro',\n",
    "        n_jobs=-1,\n",
    "        cv= kf,\n",
    "        verbose=3\n",
    "        )\n",
    "\n",
    "    gsearch3.fit(X_train, y_train)\n",
    "    print(gsearch3.best_params_)\n",
    "    print()\n",
    "    print(gsearch3.best_score_)\n",
    "    print()\n",
    "    print()\n",
    "\n"
   ]
  },
  {
   "cell_type": "markdown",
   "metadata": {
    "id": "wJv24F3m4OOQ"
   },
   "source": [
    "## step4:  Based on the above, adjust 'N_ESTIMATORS' separately:\n"
   ]
  },
  {
   "cell_type": "code",
   "execution_count": 8,
   "metadata": {
    "colab": {
     "base_uri": "https://localhost:8080/",
     "height": 430
    },
    "id": "tWth3xet4Rif",
    "outputId": "462f04ff-acf5-42c5-e10b-a6d2b44458b7"
   },
   "outputs": [],
   "source": [
    "\n",
    "from sklearn.model_selection import RandomizedSearchCV\n",
    "from sklearn.model_selection import GridSearchCV\n",
    "\n",
    "\n",
    "N_estimators = False\n",
    "if N_estimators == True:\n",
    "    param_test4 = {\n",
    "          'n_estimators': range(200, 2000, 100)\n",
    "          }\n",
    "    gsearch4 = GridSearchCV(\n",
    "          estimator = XGBClassifier(), \n",
    "        \n",
    "          param_grid = param_test4, \n",
    "\n",
    "\n",
    "          scoring='f1_macro',\n",
    "          n_jobs=-1,\n",
    "          cv= kf,\n",
    "          verbose=3\n",
    "\n",
    "          )\n",
    "\n",
    "    gsearch4.fit(X_train, y_train)\n",
    "    print(gsearch4.best_params_)\n",
    "    print()\n",
    "    print(gsearch4.best_score_)\n",
    "    print()\n",
    "    print()\n"
   ]
  },
  {
   "cell_type": "markdown",
   "metadata": {
    "id": "nse2MB6ehpzm"
   },
   "source": [
    "## step5: Regularization parameter tuning \n"
   ]
  },
  {
   "cell_type": "code",
   "execution_count": 9,
   "metadata": {
    "id": "GaeS_GY3h7Pe"
   },
   "outputs": [],
   "source": [
    "from sklearn.model_selection import RandomizedSearchCV\n",
    "from sklearn.model_selection import GridSearchCV\n",
    "\n",
    "\n",
    "RE = False\n",
    "if RE == True:\n",
    "    param_test5 = {\n",
    "        'reg_alpha':[1e-5, 1e-2, 0.1, 1, 100],\n",
    "        }\n",
    "    gsearch5 = GridSearchCV(\n",
    "        estimator = XGBClassifier(),  \n",
    "        param_grid = param_test5, \n",
    "\n",
    "        scoring='f1_macro',\n",
    "        n_jobs=-1,\n",
    "        cv= kf,\n",
    "        verbose=3\n",
    "        )\n",
    "\n",
    "    gsearch5.fit(X_train, y_train)\n",
    "    print(gsearch5.best_params_)\n",
    "    print()\n",
    "    print(gsearch5.best_score_)\n",
    "    print()\n",
    "    print()"
   ]
  },
  {
   "cell_type": "markdown",
   "metadata": {
    "id": "O7SF-jQP6S80"
   },
   "source": [
    "## step6: seed,  objective tuning "
   ]
  },
  {
   "cell_type": "code",
   "execution_count": 10,
   "metadata": {
    "id": "xYkZoW-C5X0b"
   },
   "outputs": [],
   "source": [
    "from sklearn.model_selection import RandomizedSearchCV\n",
    "import numpy as np \n",
    "from sklearn.model_selection import GridSearchCV\n",
    "\n",
    "\n",
    "SEED = False\n",
    "if SEED == True:\n",
    "    param_test6 ={\n",
    "        'seed': np.arange(20, 400, step =50),\n",
    "        'objective': ['multi:softmax','binary:logistic']\n",
    "    }\n",
    "\n",
    "    gsearch6 = GridSearchCV(\n",
    "        estimator = XGBClassifier(\n",
    "            max_depth=7,\n",
    "            learning_rate=0.01,\n",
    "            n_estimators=1000,\n",
    "            gamma = 0.1,  \n",
    "            silent=True,\n",
    "            objective='multi:softmax',\n",
    "            colsample_bytree=0.9, \n",
    "            subsample=0.8,\n",
    "            seed=20,\n",
    "        ),\n",
    "        \n",
    "        param_grid = param_test6,\n",
    "        \n",
    "        cv= kf,\n",
    "        scoring='f1_macro',\n",
    "        verbose=3,\n",
    "        n_jobs=-1 \n",
    "    )\n",
    "    \n",
    "    gsearch6.fit(X_train, y_train)\n",
    "    print(gsearch6.best_params_)\n",
    "    print()\n",
    "    print(gsearch6.best_score_)\n",
    "    print()\n",
    "    print()\n"
   ]
  },
  {
   "cell_type": "markdown",
   "metadata": {
    "id": "T1BiSJvWiPwU"
   },
   "source": [
    "adjusting learning rate"
   ]
  },
  {
   "cell_type": "code",
   "execution_count": 11,
   "metadata": {
    "id": "x8ofmCP8iTDF"
   },
   "outputs": [],
   "source": [
    "# adjust_lr = True\n",
    "# if adjust_lr == True:\n",
    "\n",
    "#     xgb_lr = XGBClassifier()\n",
    "\n",
    "#     modelfit(xgb_lr, X_train, y_train)"
   ]
  },
  {
   "cell_type": "code",
   "execution_count": null,
   "metadata": {
    "id": "Sg9fWaCNiTHq"
   },
   "outputs": [],
   "source": []
  },
  {
   "cell_type": "markdown",
   "metadata": {
    "id": "k4hFuLf0Mk0L"
   },
   "source": [
    "# K-fold for train set"
   ]
  },
  {
   "cell_type": "code",
   "execution_count": 12,
   "metadata": {
    "id": "FLYeIDETDGBr"
   },
   "outputs": [
    {
     "name": "stdout",
     "output_type": "stream",
     "text": [
      "==K-Fold==f1-score: 0.994131205174793\n"
     ]
    }
   ],
   "source": [
    "\n",
    "import xgboost as xgb\n",
    "from xgboost import plot_importance\n",
    "from matplotlib import pyplot as plt\n",
    "from sklearn.metrics import f1_score\n",
    "from sklearn.model_selection import KFold\n",
    "import numpy as np\n",
    "from xgboost.sklearn import XGBClassifier\n",
    "\n",
    "K_fold_train =True\n",
    "if K_fold_train == True:\n",
    "    kf = KFold( shuffle = True, random_state=0)\n",
    "    f1_score_list = []\n",
    "    X_train = pd.DataFrame(X_train)\n",
    "    y_train = pd.DataFrame(y_train)\n",
    "\n",
    "    for train_idx, test_idx in kf.split(X_train):\n",
    "        model = xgb.XGBClassifier(\n",
    "            max_depth=7,\n",
    "            learning_rate=0.05,\n",
    "            n_estimators=1000,\n",
    "#             gamma = 0.1,  \n",
    "            silent=True,\n",
    "#             objective='multi:softmax',\n",
    "#             colsample_bytree=0.9, \n",
    "#             subsample=0.8,\n",
    "#             seed=20,\n",
    "#             num_class = 6\n",
    "        )\n",
    "\n",
    "        train_X = X_train.loc[train_idx]\n",
    "        train_X =np.array(train_X)\n",
    "\n",
    "        train_y = y_train.loc[train_idx]\n",
    "        train_y =np.array(train_y).ravel()\n",
    "\n",
    "        val_X = X_train.loc[test_idx]\n",
    "        val_X = np.array(val_X)\n",
    "\n",
    "        val_y = y_train.loc[test_idx]\n",
    "        val_y = np.array(val_y).ravel()\n",
    "\n",
    "\n",
    "        model.fit(train_X,train_y)\n",
    "        pred = model.predict(val_X)\n",
    "\n",
    "        f1= f1_score(val_y,  pred,  average='weighted')\n",
    "        f1_score_list.append(f1)\n",
    "\n",
    "    print(f\"==K-Fold==f1-score: {(np.array(f1_score_list)).mean()}\")"
   ]
  },
  {
   "cell_type": "code",
   "execution_count": null,
   "metadata": {},
   "outputs": [],
   "source": []
  },
  {
   "cell_type": "markdown",
   "metadata": {
    "id": "dHmPQ9RxMiOW"
   },
   "source": [
    "# validiation"
   ]
  },
  {
   "cell_type": "code",
   "execution_count": 13,
   "metadata": {
    "id": "4biU_txJDGE1"
   },
   "outputs": [
    {
     "name": "stdout",
     "output_type": "stream",
     "text": [
      "              precision    recall  f1-score   support\n",
      "\n",
      "         1.0       1.00      1.00      1.00       512\n",
      "         2.0       0.99      0.99      0.99       552\n",
      "         3.0       1.00      0.98      0.99       327\n",
      "         4.0       1.00      1.00      1.00       408\n",
      "         5.0       0.99      1.00      0.99       622\n",
      "         6.0       1.00      0.99      1.00       361\n",
      "\n",
      "    accuracy                           0.99      2782\n",
      "   macro avg       1.00      0.99      0.99      2782\n",
      "weighted avg       0.99      0.99      0.99      2782\n",
      "\n",
      "f1_score(weighted) 0.9946039415911787\n",
      "f1_score(micro) 0.994608195542775\n"
     ]
    }
   ],
   "source": [
    "import numpy as np\n",
    "from sklearn.metrics import classification_report, confusion_matrix\n",
    "\n",
    "Validation = True\n",
    "\n",
    "\n",
    "if Validation == True:\n",
    "    X_train = np.array(X_train)\n",
    "    y_train = np.array(y_train).ravel()\n",
    "\n",
    "    model = xgb.XGBClassifier(\n",
    "            max_depth=7,\n",
    "            learning_rate=0.05,\n",
    "            n_estimators=1000,\n",
    "#             gamma = 0.1,  \n",
    "            silent=True,\n",
    "            objective='multi:softmax',\n",
    "#             colsample_bytree=0.9, \n",
    "#             subsample=0.8,\n",
    "#             seed=20,\n",
    "#             num_class = 6\n",
    "    )\n",
    "\n",
    "    \n",
    "    model.fit(X_train,y_train)\n",
    "    y_pred = model.predict(X_val)\n",
    "    \n",
    "    print(classification_report(y_val, y_pred))\n",
    "\n",
    "    f1_macro = f1_score(y_val, y_pred, average='weighted')\n",
    "    print(\"f1_score(weighted)\",f1_macro)\n",
    "    \n",
    "\n",
    "    f1_micro = f1_score(y_val, y_pred, average='micro')\n",
    "    print(\"f1_score(micro)\",f1_micro)\n",
    "\n",
    "\n"
   ]
  },
  {
   "cell_type": "code",
   "execution_count": 14,
   "metadata": {},
   "outputs": [],
   "source": [
    "X_test= pca.transform(X_test)\n",
    "\n",
    "\n",
    "y_test_pred = model.predict(X_test)"
   ]
  },
  {
   "cell_type": "code",
   "execution_count": 15,
   "metadata": {
    "id": "SdIAhBe2EZ01"
   },
   "outputs": [
    {
     "data": {
      "text/html": [
       "<div>\n",
       "<style scoped>\n",
       "    .dataframe tbody tr th:only-of-type {\n",
       "        vertical-align: middle;\n",
       "    }\n",
       "\n",
       "    .dataframe tbody tr th {\n",
       "        vertical-align: top;\n",
       "    }\n",
       "\n",
       "    .dataframe thead th {\n",
       "        text-align: right;\n",
       "    }\n",
       "</style>\n",
       "<table border=\"1\" class=\"dataframe\">\n",
       "  <thead>\n",
       "    <tr style=\"text-align: right;\">\n",
       "      <th></th>\n",
       "      <th>0</th>\n",
       "    </tr>\n",
       "  </thead>\n",
       "  <tbody>\n",
       "    <tr>\n",
       "      <th>0</th>\n",
       "      <td>1.0</td>\n",
       "    </tr>\n",
       "    <tr>\n",
       "      <th>1</th>\n",
       "      <td>2.0</td>\n",
       "    </tr>\n",
       "    <tr>\n",
       "      <th>2</th>\n",
       "      <td>6.0</td>\n",
       "    </tr>\n",
       "    <tr>\n",
       "      <th>3</th>\n",
       "      <td>5.0</td>\n",
       "    </tr>\n",
       "    <tr>\n",
       "      <th>4</th>\n",
       "      <td>2.0</td>\n",
       "    </tr>\n",
       "    <tr>\n",
       "      <th>...</th>\n",
       "      <td>...</td>\n",
       "    </tr>\n",
       "    <tr>\n",
       "      <th>2777</th>\n",
       "      <td>2.0</td>\n",
       "    </tr>\n",
       "    <tr>\n",
       "      <th>2778</th>\n",
       "      <td>2.0</td>\n",
       "    </tr>\n",
       "    <tr>\n",
       "      <th>2779</th>\n",
       "      <td>6.0</td>\n",
       "    </tr>\n",
       "    <tr>\n",
       "      <th>2780</th>\n",
       "      <td>5.0</td>\n",
       "    </tr>\n",
       "    <tr>\n",
       "      <th>2781</th>\n",
       "      <td>2.0</td>\n",
       "    </tr>\n",
       "  </tbody>\n",
       "</table>\n",
       "<p>2782 rows × 1 columns</p>\n",
       "</div>"
      ],
      "text/plain": [
       "        0\n",
       "0     1.0\n",
       "1     2.0\n",
       "2     6.0\n",
       "3     5.0\n",
       "4     2.0\n",
       "...   ...\n",
       "2777  2.0\n",
       "2778  2.0\n",
       "2779  6.0\n",
       "2780  5.0\n",
       "2781  2.0\n",
       "\n",
       "[2782 rows x 1 columns]"
      ]
     },
     "execution_count": 15,
     "metadata": {},
     "output_type": "execute_result"
    }
   ],
   "source": [
    "pd.DataFrame(y_test_pred)"
   ]
  },
  {
   "cell_type": "code",
   "execution_count": 16,
   "metadata": {
    "id": "YR4ms9NgFGdn"
   },
   "outputs": [
    {
     "data": {
      "text/plain": [
       "<Figure size 1296x1296 with 0 Axes>"
      ]
     },
     "metadata": {},
     "output_type": "display_data"
    },
    {
     "data": {
      "image/png": "[encoded data removed]",
      "text/plain": [
       "<Figure size 432x288 with 1 Axes>"
      ]
     },
     "metadata": {
      "needs_background": "light"
     },
     "output_type": "display_data"
    }
   ],
   "source": [
    "plt.figure(figsize=(18,18))\n",
    "plot_importance(model)\n",
    "plt.show()"
   ]
  },
  {
   "cell_type": "code",
   "execution_count": null,
   "metadata": {},
   "outputs": [],
   "source": []
  }
 ],
 "metadata": {
  "accelerator": "GPU",
  "colab": {
   "name": "xgboost.ipynb",
   "provenance": []
  },
  "kernelspec": {
   "display_name": "Python 3",
   "language": "python",
   "name": "python3"
  },
  "language_info": {
   "codemirror_mode": {
    "name": "ipython",
    "version": 3
   },
   "file_extension": ".py",
   "mimetype": "text/x-python",
   "name": "python",
   "nbconvert_exporter": "python",
   "pygments_lexer": "ipython3",
   "version": "3.7.7"
  }
 },
 "nbformat": 4,
 "nbformat_minor": 1
}
